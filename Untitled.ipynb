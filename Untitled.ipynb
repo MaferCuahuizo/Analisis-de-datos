{
 "cells": [
  {
   "cell_type": "code",
   "execution_count": 2,
   "id": "01a0acfa",
   "metadata": {},
   "outputs": [],
   "source": [
    "#np.random.random(): draw a number between 0 and 1\n",
    "#> 0.5 cruz\n",
    "#<= 0.5 cara\n",
    "\n",
    "\n",
    "import numpy as np\n",
    "np.random.seed(42)\n",
    "random_numbers=np.random.random(size=4)\n",
    "\n",
    "#Simulating 4 coin flips\n",
    "\n",
    "n_all_heads = 0 #initializa\n"
   ]
  }
 ],
 "metadata": {
  "kernelspec": {
   "display_name": "Python 3 (ipykernel)",
   "language": "python",
   "name": "python3"
  },
  "language_info": {
   "codemirror_mode": {
    "name": "ipython",
    "version": 3
   },
   "file_extension": ".py",
   "mimetype": "text/x-python",
   "name": "python",
   "nbconvert_exporter": "python",
   "pygments_lexer": "ipython3",
   "version": "3.9.13"
  }
 },
 "nbformat": 4,
 "nbformat_minor": 5
}
