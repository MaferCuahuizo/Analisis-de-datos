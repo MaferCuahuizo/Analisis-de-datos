{
 "cells": [
  {
   "cell_type": "markdown",
   "metadata": {
    "tags": []
   },
   "source": [
    "## Exploring the NSFG data\n",
    "\n",
    "To get the number of rows and columns in a DataFrame, you can read its shape attribute.\n",
    "\n",
    "To get the column names, you can read the columns attribute. The result is an Index, which is a Pandas data structure that is similar to a list. Let's begin exploring the NSFG data! It has been pre-loaded for you into a DataFrame called nsfg."
   ]
  },
  {
   "cell_type": "markdown",
   "metadata": {},
   "source": [
    "<li> Calculate the number of rows and columns in the DataFrame nsfg.\n",
    "    <li>Display the names of the columns in nsfg.\n",
    "        <li>Select the column 'birthwgt_oz1' and assign it to a new variable called ounces.\n",
    "            <li>Display the first 5 elements of ounces."
   ]
  },
  {
   "cell_type": "code",
   "execution_count": 1,
   "metadata": {},
   "outputs": [],
   "source": [
    "#Para responder: ¿Cual es el peso promedio de los bebes al nacer en EU? necesitamos\n",
    "#1.Base de datos o ejecutar un experimento para recopilar datos\n",
    "#2.-Introducir los datos a un entorno de desarrollo y prepararlos\n",
    "#3.- Limpieza y validación\n",
    "\n",
    "#Nosotros vamos a usar datos de la Encuesta Nacional de crecimiento Familiar (National Survey of Family Growth NSFG)\n",
    "\n",
    "\n",
    "#Pandas es una librería de Python especializada en el manejo y análisis de estructuras de datos.\n",
    "#Además es un modulo de Python para leer los datos\n",
    "\n",
    "import pandas as pd #importaremos como pd\n",
    "import numpy as np"
   ]
  },
  {
   "cell_type": "code",
   "execution_count": 2,
   "metadata": {},
   "outputs": [],
   "source": [
    "#Vamos a leer un archivo tipo hdf (tambien se pueden leer archivos tipo csv, json, html, etc)\n",
    "\n",
    "#El formato HDF((Hierarchical Data Format), representa una alternativa eficaz al ser\n",
    "#adoptado como estructura de almacenamiento de datos.\n",
    "\n",
    "#Parámetros de read_hdf\n",
    "#ruta: Cualquier ruta de cadena válida es aceptable\n",
    "#Objeto clave: Identificador de grupo en la tienda\n",
    "\n",
    "#Llamaremos al data Frame como \"nsfg\"\n",
    "nsfg=pd.read_hdf('nsfg.hdf5','nsfg') #vamos a obtener un DataFrame\n"
   ]
  },
  {
   "cell_type": "code",
   "execution_count": 3,
   "metadata": {},
   "outputs": [
    {
     "data": {
      "text/html": [
       "<div>\n",
       "<style scoped>\n",
       "    .dataframe tbody tr th:only-of-type {\n",
       "        vertical-align: middle;\n",
       "    }\n",
       "\n",
       "    .dataframe tbody tr th {\n",
       "        vertical-align: top;\n",
       "    }\n",
       "\n",
       "    .dataframe thead th {\n",
       "        text-align: right;\n",
       "    }\n",
       "</style>\n",
       "<table border=\"1\" class=\"dataframe\">\n",
       "  <thead>\n",
       "    <tr style=\"text-align: right;\">\n",
       "      <th></th>\n",
       "      <th>caseid</th>\n",
       "      <th>outcome</th>\n",
       "      <th>birthwgt_lb1</th>\n",
       "      <th>birthwgt_oz1</th>\n",
       "      <th>prglngth</th>\n",
       "      <th>nbrnaliv</th>\n",
       "      <th>agecon</th>\n",
       "      <th>agepreg</th>\n",
       "      <th>hpagelb</th>\n",
       "      <th>wgt2013_2015</th>\n",
       "    </tr>\n",
       "  </thead>\n",
       "  <tbody>\n",
       "    <tr>\n",
       "      <th>0</th>\n",
       "      <td>60418</td>\n",
       "      <td>1</td>\n",
       "      <td>5.0</td>\n",
       "      <td>4.0</td>\n",
       "      <td>40</td>\n",
       "      <td>1.0</td>\n",
       "      <td>2000</td>\n",
       "      <td>2075.0</td>\n",
       "      <td>22.0</td>\n",
       "      <td>3554.964843</td>\n",
       "    </tr>\n",
       "    <tr>\n",
       "      <th>1</th>\n",
       "      <td>60418</td>\n",
       "      <td>1</td>\n",
       "      <td>4.0</td>\n",
       "      <td>12.0</td>\n",
       "      <td>36</td>\n",
       "      <td>1.0</td>\n",
       "      <td>2291</td>\n",
       "      <td>2358.0</td>\n",
       "      <td>25.0</td>\n",
       "      <td>3554.964843</td>\n",
       "    </tr>\n",
       "    <tr>\n",
       "      <th>2</th>\n",
       "      <td>60418</td>\n",
       "      <td>1</td>\n",
       "      <td>5.0</td>\n",
       "      <td>4.0</td>\n",
       "      <td>36</td>\n",
       "      <td>1.0</td>\n",
       "      <td>3241</td>\n",
       "      <td>3308.0</td>\n",
       "      <td>52.0</td>\n",
       "      <td>3554.964843</td>\n",
       "    </tr>\n",
       "    <tr>\n",
       "      <th>3</th>\n",
       "      <td>60419</td>\n",
       "      <td>6</td>\n",
       "      <td>NaN</td>\n",
       "      <td>NaN</td>\n",
       "      <td>33</td>\n",
       "      <td>NaN</td>\n",
       "      <td>3650</td>\n",
       "      <td>NaN</td>\n",
       "      <td>NaN</td>\n",
       "      <td>2484.535358</td>\n",
       "    </tr>\n",
       "    <tr>\n",
       "      <th>4</th>\n",
       "      <td>60420</td>\n",
       "      <td>1</td>\n",
       "      <td>8.0</td>\n",
       "      <td>13.0</td>\n",
       "      <td>41</td>\n",
       "      <td>1.0</td>\n",
       "      <td>2191</td>\n",
       "      <td>2266.0</td>\n",
       "      <td>24.0</td>\n",
       "      <td>2903.782914</td>\n",
       "    </tr>\n",
       "    <tr>\n",
       "      <th>...</th>\n",
       "      <td>...</td>\n",
       "      <td>...</td>\n",
       "      <td>...</td>\n",
       "      <td>...</td>\n",
       "      <td>...</td>\n",
       "      <td>...</td>\n",
       "      <td>...</td>\n",
       "      <td>...</td>\n",
       "      <td>...</td>\n",
       "      <td>...</td>\n",
       "    </tr>\n",
       "    <tr>\n",
       "      <th>9353</th>\n",
       "      <td>70615</td>\n",
       "      <td>1</td>\n",
       "      <td>4.0</td>\n",
       "      <td>11.0</td>\n",
       "      <td>35</td>\n",
       "      <td>1.0</td>\n",
       "      <td>1758</td>\n",
       "      <td>1825.0</td>\n",
       "      <td>22.0</td>\n",
       "      <td>8117.554461</td>\n",
       "    </tr>\n",
       "    <tr>\n",
       "      <th>9354</th>\n",
       "      <td>70616</td>\n",
       "      <td>1</td>\n",
       "      <td>8.0</td>\n",
       "      <td>7.0</td>\n",
       "      <td>42</td>\n",
       "      <td>1.0</td>\n",
       "      <td>1741</td>\n",
       "      <td>1816.0</td>\n",
       "      <td>18.0</td>\n",
       "      <td>6842.240477</td>\n",
       "    </tr>\n",
       "    <tr>\n",
       "      <th>9355</th>\n",
       "      <td>70616</td>\n",
       "      <td>1</td>\n",
       "      <td>7.0</td>\n",
       "      <td>6.0</td>\n",
       "      <td>36</td>\n",
       "      <td>1.0</td>\n",
       "      <td>2091</td>\n",
       "      <td>2158.0</td>\n",
       "      <td>23.0</td>\n",
       "      <td>6842.240477</td>\n",
       "    </tr>\n",
       "    <tr>\n",
       "      <th>9356</th>\n",
       "      <td>70619</td>\n",
       "      <td>1</td>\n",
       "      <td>8.0</td>\n",
       "      <td>3.0</td>\n",
       "      <td>41</td>\n",
       "      <td>1.0</td>\n",
       "      <td>3450</td>\n",
       "      <td>3525.0</td>\n",
       "      <td>31.0</td>\n",
       "      <td>3856.253532</td>\n",
       "    </tr>\n",
       "    <tr>\n",
       "      <th>9357</th>\n",
       "      <td>70619</td>\n",
       "      <td>1</td>\n",
       "      <td>8.0</td>\n",
       "      <td>5.0</td>\n",
       "      <td>40</td>\n",
       "      <td>1.0</td>\n",
       "      <td>3683</td>\n",
       "      <td>3758.0</td>\n",
       "      <td>34.0</td>\n",
       "      <td>3856.253532</td>\n",
       "    </tr>\n",
       "  </tbody>\n",
       "</table>\n",
       "<p>9358 rows × 10 columns</p>\n",
       "</div>"
      ],
      "text/plain": [
       "      caseid  outcome  birthwgt_lb1  birthwgt_oz1  prglngth  nbrnaliv  agecon  \\\n",
       "0      60418        1           5.0           4.0        40       1.0    2000   \n",
       "1      60418        1           4.0          12.0        36       1.0    2291   \n",
       "2      60418        1           5.0           4.0        36       1.0    3241   \n",
       "3      60419        6           NaN           NaN        33       NaN    3650   \n",
       "4      60420        1           8.0          13.0        41       1.0    2191   \n",
       "...      ...      ...           ...           ...       ...       ...     ...   \n",
       "9353   70615        1           4.0          11.0        35       1.0    1758   \n",
       "9354   70616        1           8.0           7.0        42       1.0    1741   \n",
       "9355   70616        1           7.0           6.0        36       1.0    2091   \n",
       "9356   70619        1           8.0           3.0        41       1.0    3450   \n",
       "9357   70619        1           8.0           5.0        40       1.0    3683   \n",
       "\n",
       "      agepreg  hpagelb  wgt2013_2015  \n",
       "0      2075.0     22.0   3554.964843  \n",
       "1      2358.0     25.0   3554.964843  \n",
       "2      3308.0     52.0   3554.964843  \n",
       "3         NaN      NaN   2484.535358  \n",
       "4      2266.0     24.0   2903.782914  \n",
       "...       ...      ...           ...  \n",
       "9353   1825.0     22.0   8117.554461  \n",
       "9354   1816.0     18.0   6842.240477  \n",
       "9355   2158.0     23.0   6842.240477  \n",
       "9356   3525.0     31.0   3856.253532  \n",
       "9357   3758.0     34.0   3856.253532  \n",
       "\n",
       "[9358 rows x 10 columns]"
      ]
     },
     "execution_count": 3,
     "metadata": {},
     "output_type": "execute_result"
    }
   ],
   "source": [
    "nsfg"
   ]
  },
  {
   "cell_type": "code",
   "execution_count": 4,
   "metadata": {},
   "outputs": [
    {
     "data": {
      "text/plain": [
       "pandas.core.frame.DataFrame"
      ]
     },
     "execution_count": 4,
     "metadata": {},
     "output_type": "execute_result"
    }
   ],
   "source": [
    "type(nsfg)"
   ]
  },
  {
   "cell_type": "code",
   "execution_count": 32,
   "metadata": {},
   "outputs": [
    {
     "data": {
      "text/plain": [
       "<bound method NDFrame.head of 0        4.0\n",
       "1       12.0\n",
       "2        4.0\n",
       "3        NaN\n",
       "4       13.0\n",
       "        ... \n",
       "9353    11.0\n",
       "9354     7.0\n",
       "9355     6.0\n",
       "9356     3.0\n",
       "9357     5.0\n",
       "Name: birthwgt_oz1, Length: 9358, dtype: float64>"
      ]
     },
     "execution_count": 32,
     "metadata": {},
     "output_type": "execute_result"
    }
   ],
   "source": [
    "# Display the number of rows and columns\n",
    "nsfg.shape\n",
    "# Display the names of the columns\n",
    "nsfg.columns\n",
    "# Select column birthwgt_oz1: ounces\n",
    "ounces = nsfg['birthwgt_oz1']\n",
    "# Print the first 5 elements of ounces\n",
    "ounces.head"
   ]
  },
  {
   "cell_type": "code",
   "execution_count": 33,
   "metadata": {},
   "outputs": [
    {
     "data": {
      "text/plain": [
       "(9358, 10)"
      ]
     },
     "execution_count": 33,
     "metadata": {},
     "output_type": "execute_result"
    }
   ],
   "source": [
    "# Display the number of rows and columns\n",
    "nsfg.shape"
   ]
  },
  {
   "cell_type": "code",
   "execution_count": 34,
   "metadata": {},
   "outputs": [
    {
     "data": {
      "text/plain": [
       "Index(['caseid', 'outcome', 'birthwgt_lb1', 'birthwgt_oz1', 'prglngth',\n",
       "       'nbrnaliv', 'agecon', 'agepreg', 'hpagelb', 'wgt2013_2015'],\n",
       "      dtype='object')"
      ]
     },
     "execution_count": 34,
     "metadata": {},
     "output_type": "execute_result"
    }
   ],
   "source": [
    "# Display the names of the columns\n",
    "nsfg.columns"
   ]
  },
  {
   "cell_type": "code",
   "execution_count": 35,
   "metadata": {},
   "outputs": [
    {
     "data": {
      "text/plain": [
       "0        4.0\n",
       "1       12.0\n",
       "2        4.0\n",
       "3        NaN\n",
       "4       13.0\n",
       "        ... \n",
       "9353    11.0\n",
       "9354     7.0\n",
       "9355     6.0\n",
       "9356     3.0\n",
       "9357     5.0\n",
       "Name: birthwgt_oz1, Length: 9358, dtype: float64"
      ]
     },
     "execution_count": 35,
     "metadata": {},
     "output_type": "execute_result"
    }
   ],
   "source": [
    "# Select column birthwgt_oz1: ounces\n",
    "ounces = nsfg['birthwgt_oz1']\n",
    "ounces"
   ]
  },
  {
   "cell_type": "code",
   "execution_count": 36,
   "metadata": {},
   "outputs": [
    {
     "data": {
      "text/plain": [
       "pandas.core.series.Series"
      ]
     },
     "execution_count": 36,
     "metadata": {},
     "output_type": "execute_result"
    }
   ],
   "source": [
    "type(ounces) #nos devuelve uns estructura llamada serie"
   ]
  },
  {
   "cell_type": "code",
   "execution_count": 37,
   "metadata": {},
   "outputs": [
    {
     "data": {
      "text/plain": [
       "<bound method NDFrame.head of 0        4.0\n",
       "1       12.0\n",
       "2        4.0\n",
       "3        NaN\n",
       "4       13.0\n",
       "        ... \n",
       "9353    11.0\n",
       "9354     7.0\n",
       "9355     6.0\n",
       "9356     3.0\n",
       "9357     5.0\n",
       "Name: birthwgt_oz1, Length: 9358, dtype: float64>"
      ]
     },
     "execution_count": 37,
     "metadata": {},
     "output_type": "execute_result"
    }
   ],
   "source": [
    "# Print the first 5 elements of ounces\n",
    "#Cuando se ejecuta, en la parte de abajo aparece \"dtype\" eso significa que son tipo de datos de tipo float de 64 bytes\n",
    "#NaN equivale a no es numero, datos no validos o faltantes\n",
    "\n",
    "ounces.head "
   ]
  },
  {
   "cell_type": "markdown",
   "metadata": {
    "tags": []
   },
   "source": [
    "## Clean a variable\n",
    "\n",
    "In the NSFG dataset, the variable <code>'nbrnaliv'</code> records the number of babies born alive at the end of a pregnancy.\n",
    "\n",
    "If you use <code>.value_counts()</code> to view the responses, you'll see that the value <code>8</code> appears once, and if you consult the codebook, you'll see that this value indicates that the respondent refused to answer the question.\n",
    "\n",
    "Your job in this exercise is to replace this value with <code>np.nan</code>. Recall from the video how Allen replaced the values 98 and 99 in the <code>ounces</code> column using the <code>.replace()</code> method:\n",
    "\n",
    "<code>ounces.replace([98, 99], np.nan, inplace=True)</code>"
   ]
  },
  {
   "cell_type": "markdown",
   "metadata": {},
   "source": [
    "<li>In the <code>'nbrnaliv'</code> column, replace the value <code>8</code>, in place, with the special value <code>NaN</code>.\n",
    "<li>Confirm that the value <code>8</code> no longer appears in this column by printing the values and their frequencies."
   ]
  },
  {
   "cell_type": "code",
   "execution_count": 38,
   "metadata": {},
   "outputs": [
    {
     "data": {
      "text/plain": [
       "0    1.0\n",
       "1    1.0\n",
       "2    1.0\n",
       "3    NaN\n",
       "4    1.0\n",
       "5    NaN\n",
       "6    1.0\n",
       "7    1.0\n",
       "8    NaN\n",
       "Name: nbrnaliv, dtype: float64"
      ]
     },
     "execution_count": 38,
     "metadata": {},
     "output_type": "execute_result"
    }
   ],
   "source": [
    "nsfg['nbrnaliv'][0:9]"
   ]
  },
  {
   "cell_type": "code",
   "execution_count": 39,
   "metadata": {},
   "outputs": [
    {
     "data": {
      "text/plain": [
       "1.0    6379\n",
       "2.0     100\n",
       "3.0       5\n",
       "8.0       1\n",
       "Name: nbrnaliv, dtype: int64"
      ]
     },
     "execution_count": 39,
     "metadata": {},
     "output_type": "execute_result"
    }
   ],
   "source": [
    "#bebés nacidos vivos al final del embarazo es la columna 'nbrnaliv'\n",
    "\n",
    "#              .value_counts() \n",
    "#Con .value_counts() vamos a obtener que valores aparecen en esta columna y cuantas veces\n",
    "#Nota: siempre apareceran ordenados desde el valor que más veces se repitio hasta el menor\n",
    "nsfg['nbrnaliv'].value_counts()"
   ]
  },
  {
   "cell_type": "code",
   "execution_count": 40,
   "metadata": {},
   "outputs": [
    {
     "data": {
      "text/plain": [
       "1.0    6379\n",
       "2.0     100\n",
       "3.0       5\n",
       "8.0       1\n",
       "Name: nbrnaliv, dtype: int64"
      ]
     },
     "execution_count": 40,
     "metadata": {},
     "output_type": "execute_result"
    }
   ],
   "source": [
    "#   .sort_index() \n",
    "#se ordenan por valor, es decir, por el menor dato contenido en la columna \n",
    "nsfg['nbrnaliv'].value_counts().sort_index() "
   ]
  },
  {
   "cell_type": "code",
   "execution_count": 41,
   "metadata": {},
   "outputs": [
    {
     "name": "stdout",
     "output_type": "stream",
     "text": [
      "1.0    6379\n",
      "2.0     100\n",
      "3.0       5\n",
      "Name: nbrnaliv, dtype: int64\n"
     ]
    }
   ],
   "source": [
    "#Para reemplazar valores usamos la función .replace que tiene como parámetros:\n",
    "#(valor o valores que queremos reemplazar,\n",
    "# por cual valor queremos reemplazarlo,\n",
    "# inplace = True)\n",
    "\n",
    "#Si queremos cambiar más de un valor, se pone una lista, es decir [valor1, valor2, etc] ejemplo [8,9]\n",
    "#np.nan significa que estamos obteniendo el valor especial nan de la bibliote Numby que se importa como np\n",
    "#inplace = True significa que modifica la serie en su lugar sin hacer una copia, es decir, que no tengamos que asignar otro nombre de variable\n",
    "\n",
    "# Replace the value 8 with NaN\n",
    "#.replace sirve para limpiar los datos\n",
    "nsfg['nbrnaliv'].replace(8, np.nan, inplace = True)\n",
    "\n",
    "# Print the values and their frequencies\n",
    "print(nsfg['nbrnaliv'].value_counts())"
   ]
  },
  {
   "cell_type": "code",
   "execution_count": 42,
   "metadata": {},
   "outputs": [],
   "source": [
    "nsfg['nbrnaliv'].replace(8, np.nan, inplace = True)"
   ]
  },
  {
   "cell_type": "code",
   "execution_count": 43,
   "metadata": {},
   "outputs": [
    {
     "name": "stdout",
     "output_type": "stream",
     "text": [
      "1.0    6379\n",
      "2.0     100\n",
      "3.0       5\n",
      "Name: nbrnaliv, dtype: int64\n"
     ]
    }
   ],
   "source": [
    "print(nsfg['nbrnaliv'].value_counts())"
   ]
  },
  {
   "cell_type": "markdown",
   "metadata": {
    "tags": []
   },
   "source": [
    "## Compute a variable\n",
    "\n",
    "For each pregnancy in the NSFG dataset, the variable <code>'agecon'</code> encodes the respondent's age at conception, and <code>'agepreg'</code> the respondent's age at the end of the pregnancy.\n",
    "\n",
    "Both variables are recorded as integers with two implicit decimal places, so the value <code>2575</code> means that the respondent's age was <code>25.75</code>."
   ]
  },
  {
   "cell_type": "markdown",
   "metadata": {},
   "source": [
    "<li>Select <code>'agecon'</code> and <code>'agepreg'</code>, divide them by <code>100</code>, and assign them to the local variables <code>agecon</code> and <code>agepreg</code>.\n",
    "    <li>Compute the difference, which is an estimate of the duration of the pregnancy. Keep in mind that for each pregnancy, <code>agepreg</code> will be larger than <code>agecon</code>.\n",
    "<li>Use <code>.describe()</code> to compute the mean duration and other summary statistics."
   ]
  },
  {
   "cell_type": "code",
   "execution_count": 44,
   "metadata": {},
   "outputs": [
    {
     "data": {
      "text/plain": [
       "0       2000\n",
       "1       2291\n",
       "2       3241\n",
       "3       3650\n",
       "4       2191\n",
       "        ... \n",
       "9353    1758\n",
       "9354    1741\n",
       "9355    2091\n",
       "9356    3450\n",
       "9357    3683\n",
       "Name: agecon, Length: 9358, dtype: int64"
      ]
     },
     "execution_count": 44,
     "metadata": {},
     "output_type": "execute_result"
    }
   ],
   "source": [
    "#edad de la persona antes del comienzo del embarazo\n",
    "nsfg['agecon']"
   ]
  },
  {
   "cell_type": "code",
   "execution_count": 45,
   "metadata": {},
   "outputs": [
    {
     "data": {
      "text/plain": [
       "0       2075.0\n",
       "1       2358.0\n",
       "2       3308.0\n",
       "3          NaN\n",
       "4       2266.0\n",
       "         ...  \n",
       "9353    1825.0\n",
       "9354    1816.0\n",
       "9355    2158.0\n",
       "9356    3525.0\n",
       "9357    3758.0\n",
       "Name: agepreg, Length: 9358, dtype: float64"
      ]
     },
     "execution_count": 45,
     "metadata": {},
     "output_type": "execute_result"
    }
   ],
   "source": [
    "#edad de la persona al final del embarazo\n",
    "nsfg['agepreg']"
   ]
  },
  {
   "cell_type": "code",
   "execution_count": 46,
   "metadata": {},
   "outputs": [
    {
     "name": "stdout",
     "output_type": "stream",
     "text": [
      "count    9109.000000\n",
      "mean        0.552069\n",
      "std         0.271479\n",
      "min         0.000000\n",
      "25%         0.250000\n",
      "50%         0.670000\n",
      "75%         0.750000\n",
      "max         0.920000\n",
      "dtype: float64\n"
     ]
    }
   ],
   "source": [
    "# Select the columns and divide by 100\n",
    "agecon = nsfg['agecon']/100\n",
    "agepreg = nsfg['agepreg']/100\n",
    "\n",
    "# Compute the difference\n",
    "preg_length = agepreg-agecon\n",
    "\n",
    "# Compute summary statistics\n",
    "#.describe calcula el resumen de estadísticas\n",
    "#count = numero de valores que tenemos\n",
    "print(preg_length.describe())"
   ]
  },
  {
   "cell_type": "code",
   "execution_count": 47,
   "metadata": {},
   "outputs": [
    {
     "data": {
      "text/plain": [
       "0       20.00\n",
       "1       22.91\n",
       "2       32.41\n",
       "3       36.50\n",
       "4       21.91\n",
       "        ...  \n",
       "9353    17.58\n",
       "9354    17.41\n",
       "9355    20.91\n",
       "9356    34.50\n",
       "9357    36.83\n",
       "Name: agecon, Length: 9358, dtype: float64"
      ]
     },
     "execution_count": 47,
     "metadata": {},
     "output_type": "execute_result"
    }
   ],
   "source": [
    "agecon"
   ]
  },
  {
   "cell_type": "code",
   "execution_count": 48,
   "metadata": {},
   "outputs": [
    {
     "data": {
      "text/plain": [
       "0       0.75\n",
       "1       0.67\n",
       "2       0.67\n",
       "3        NaN\n",
       "4       0.75\n",
       "        ... \n",
       "9353    0.67\n",
       "9354    0.75\n",
       "9355    0.67\n",
       "9356    0.75\n",
       "9357    0.75\n",
       "Length: 9358, dtype: float64"
      ]
     },
     "execution_count": 48,
     "metadata": {},
     "output_type": "execute_result"
    }
   ],
   "source": [
    "preg_length"
   ]
  },
  {
   "cell_type": "markdown",
   "metadata": {},
   "source": [
    "## Make a histogram\n",
    "\n",
    "Histograms are one of the most useful tools in exploratory data analysis. They quickly give you an overview of the distribution of a variable, that is, what values the variable can have, and how many times each value appears.\n",
    "\n",
    "As we saw in a previous exercise, the NSFG dataset includes a variable <code>'agecon'</code> that records age at conception for each pregnancy. Here, you're going to plot a histogram of this variable. You'll use the <code>bins</code> parameter that you saw in the presentation, and also a new parameter <code>- histtype -</code>"
   ]
  },
  {
   "cell_type": "markdown",
   "metadata": {},
   "source": [
    "<li> Plot a histogram of <code>agecon</code> with <code>20</code> bins.\n",
    "    <li> Adapt your code to make an unfilled histogram by setting the parameter <code>histtype</code> to be <code>'step'</code>."
   ]
  },
  {
   "cell_type": "code",
   "execution_count": 49,
   "metadata": {},
   "outputs": [],
   "source": [
    "import matplotlib.pyplot as plt\n",
    "\n",
    "#pyplot no funciona con números NaN, por lo que usamos la instrucción \n",
    "# dropna() para borrar los números faltantes\n",
    "\n",
    "#bins nos dice como va a dividir los rangos de la variable que estemos trabajando"
   ]
  },
  {
   "cell_type": "code",
   "execution_count": 50,
   "metadata": {},
   "outputs": [
    {
     "data": {
      "image/png": "[encoded data removed]",
      "text/plain": [
       "<Figure size 640x480 with 1 Axes>"
      ]
     },
     "metadata": {},
     "output_type": "display_data"
    }
   ],
   "source": [
    "# Plot the histogram\n",
    "plt.hist(agecon,bins=20,histtype='step')\n",
    "\n",
    "# Label the axes\n",
    "plt.xlabel('Age at conception')\n",
    "plt.ylabel('Number of pregnancies')\n",
    "\n",
    "# Show the figure\n",
    "plt.show()"
   ]
  },
  {
   "cell_type": "markdown",
   "metadata": {},
   "source": [
    "## Compute birth weight\n",
    "\n",
    "Now let's pull together the steps in this chapter to compute the average birth weight for full-term babies.\n",
    "\n",
    "I've provided a function, resample_rows_weighted, that takes the NSFG data and resamples it using the sampling weights in wgt2013_2015. The result is a sample that is representative of the U.S. population.\n",
    "\n",
    "Then I extract birthwgt_lb1 and birthwgt_oz1, replace special codes with NaN, and compute total birth weight in pounds, birth_weight.\n",
    "\n",
    "<code>#Resample the data</code>\n",
    "\n",
    "<code>nsfg = resample_rows_weighted(nsfg, 'wgt2013_2015')</code>\n",
    "\n",
    "<code>#Clean the weight variables</code>\n",
    "\n",
    "<code>pounds = nsfg['birthwgt_lb1'].replace([98, 99], np.nan)</code>\n",
    "\n",
    "<code>ounces = nsfg['birthwgt_oz1'].replace([98, 99], np.nan)</code>\n",
    "\n",
    "<code>#Compute total birth weight</code>\n",
    "\n",
    "<code>birth_weight = pounds + ounces/16</code>"
   ]
  },
  {
   "cell_type": "code",
   "execution_count": 51,
   "metadata": {},
   "outputs": [],
   "source": [
    "#Dado que los datos no son representativos, el remuestreo ayuda a garantizar que hay suficientes\n",
    "#personas en cada grupo para obtener estadisticas confiables, pero hace que\n",
    "#el analisis sea un poco complicado, para eso se una la función resample_rows_weighted\n",
    "\n",
    "def resample_rows_weighted(df, column='finalwgt'):\n",
    "    \"\"\"Resamples a DataFrame using probabilities proportional to given column.\n",
    "\n",
    "    df: DataFrame\n",
    "    column: string column name to use as weights\n",
    "\n",
    "    returns: DataFrame\n",
    "    \"\"\"\n",
    "    weights = df[column].copy()\n",
    "    weights /= sum(weights)\n",
    "    indices = np.random.choice(df.index, len(df), replace=True, p=weights)\n",
    "    sample = df.loc[indices]\n",
    "    return sample"
   ]
  },
  {
   "cell_type": "code",
   "execution_count": 52,
   "metadata": {},
   "outputs": [
    {
     "data": {
      "text/plain": [
       "4223    4.1250\n",
       "7719    7.2500\n",
       "3982    6.1875\n",
       "7688    8.4375\n",
       "1401    8.0000\n",
       "         ...  \n",
       "8986       NaN\n",
       "8770       NaN\n",
       "3762       NaN\n",
       "2797    9.5000\n",
       "8550    5.0000\n",
       "Length: 9358, dtype: float64"
      ]
     },
     "execution_count": 52,
     "metadata": {},
     "output_type": "execute_result"
    }
   ],
   "source": [
    "# Resample the data\n",
    "nsfg = resample_rows_weighted(nsfg, 'wgt2013_2015')\n",
    "\n",
    "# Clean the weight variables\n",
    "pounds = nsfg['birthwgt_lb1'].replace([98, 99], np.nan)\n",
    "ounces = nsfg['birthwgt_oz1'].replace([98, 99], np.nan)\n",
    "\n",
    "# Compute total birth weight\n",
    "birth_weight = pounds + ounces/16\n",
    "birth_weight"
   ]
  },
  {
   "cell_type": "markdown",
   "metadata": {},
   "source": [
    "<li>Make a Boolean Series called <code>full_term</code> that is true for babies with <code>'prglngth'</code> greater than or equal to 37 weeks.\n",
    "<li>Use <code>full_term</code> and <code>birth_weight</code> to select birth weight in pounds for full-term babies. Store the result in <code>full_term_weight</code>.\n",
    "<li>Compute the mean weight of full-term babies."
   ]
  },
  {
   "cell_type": "code",
   "execution_count": 53,
   "metadata": {},
   "outputs": [
    {
     "data": {
      "text/html": [
       "<div>\n",
       "<style scoped>\n",
       "    .dataframe tbody tr th:only-of-type {\n",
       "        vertical-align: middle;\n",
       "    }\n",
       "\n",
       "    .dataframe tbody tr th {\n",
       "        vertical-align: top;\n",
       "    }\n",
       "\n",
       "    .dataframe thead th {\n",
       "        text-align: right;\n",
       "    }\n",
       "</style>\n",
       "<table border=\"1\" class=\"dataframe\">\n",
       "  <thead>\n",
       "    <tr style=\"text-align: right;\">\n",
       "      <th></th>\n",
       "      <th>caseid</th>\n",
       "      <th>outcome</th>\n",
       "      <th>birthwgt_lb1</th>\n",
       "      <th>birthwgt_oz1</th>\n",
       "      <th>prglngth</th>\n",
       "      <th>nbrnaliv</th>\n",
       "      <th>agecon</th>\n",
       "      <th>agepreg</th>\n",
       "      <th>hpagelb</th>\n",
       "      <th>wgt2013_2015</th>\n",
       "    </tr>\n",
       "  </thead>\n",
       "  <tbody>\n",
       "    <tr>\n",
       "      <th>4223</th>\n",
       "      <td>64962</td>\n",
       "      <td>1</td>\n",
       "      <td>4.0</td>\n",
       "      <td>2.0</td>\n",
       "      <td>32</td>\n",
       "      <td>1.0</td>\n",
       "      <td>2083</td>\n",
       "      <td>2141.0</td>\n",
       "      <td>20.0</td>\n",
       "      <td>21033.515257</td>\n",
       "    </tr>\n",
       "    <tr>\n",
       "      <th>7719</th>\n",
       "      <td>68839</td>\n",
       "      <td>1</td>\n",
       "      <td>7.0</td>\n",
       "      <td>4.0</td>\n",
       "      <td>39</td>\n",
       "      <td>1.0</td>\n",
       "      <td>1966</td>\n",
       "      <td>2041.0</td>\n",
       "      <td>23.0</td>\n",
       "      <td>3721.763186</td>\n",
       "    </tr>\n",
       "    <tr>\n",
       "      <th>3982</th>\n",
       "      <td>64687</td>\n",
       "      <td>1</td>\n",
       "      <td>6.0</td>\n",
       "      <td>3.0</td>\n",
       "      <td>35</td>\n",
       "      <td>1.0</td>\n",
       "      <td>2033</td>\n",
       "      <td>2100.0</td>\n",
       "      <td>23.0</td>\n",
       "      <td>12786.601826</td>\n",
       "    </tr>\n",
       "    <tr>\n",
       "      <th>7688</th>\n",
       "      <td>68818</td>\n",
       "      <td>1</td>\n",
       "      <td>8.0</td>\n",
       "      <td>7.0</td>\n",
       "      <td>37</td>\n",
       "      <td>1.0</td>\n",
       "      <td>2000</td>\n",
       "      <td>2066.0</td>\n",
       "      <td>21.0</td>\n",
       "      <td>9015.032523</td>\n",
       "    </tr>\n",
       "    <tr>\n",
       "      <th>1401</th>\n",
       "      <td>61964</td>\n",
       "      <td>1</td>\n",
       "      <td>8.0</td>\n",
       "      <td>0.0</td>\n",
       "      <td>36</td>\n",
       "      <td>1.0</td>\n",
       "      <td>1641</td>\n",
       "      <td>1708.0</td>\n",
       "      <td>30.0</td>\n",
       "      <td>16021.945008</td>\n",
       "    </tr>\n",
       "    <tr>\n",
       "      <th>...</th>\n",
       "      <td>...</td>\n",
       "      <td>...</td>\n",
       "      <td>...</td>\n",
       "      <td>...</td>\n",
       "      <td>...</td>\n",
       "      <td>...</td>\n",
       "      <td>...</td>\n",
       "      <td>...</td>\n",
       "      <td>...</td>\n",
       "      <td>...</td>\n",
       "    </tr>\n",
       "    <tr>\n",
       "      <th>8986</th>\n",
       "      <td>70277</td>\n",
       "      <td>2</td>\n",
       "      <td>NaN</td>\n",
       "      <td>NaN</td>\n",
       "      <td>7</td>\n",
       "      <td>NaN</td>\n",
       "      <td>1833</td>\n",
       "      <td>1841.0</td>\n",
       "      <td>NaN</td>\n",
       "      <td>56384.211988</td>\n",
       "    </tr>\n",
       "    <tr>\n",
       "      <th>8770</th>\n",
       "      <td>70039</td>\n",
       "      <td>2</td>\n",
       "      <td>NaN</td>\n",
       "      <td>NaN</td>\n",
       "      <td>10</td>\n",
       "      <td>NaN</td>\n",
       "      <td>2500</td>\n",
       "      <td>2516.0</td>\n",
       "      <td>NaN</td>\n",
       "      <td>26442.526851</td>\n",
       "    </tr>\n",
       "    <tr>\n",
       "      <th>3762</th>\n",
       "      <td>64440</td>\n",
       "      <td>2</td>\n",
       "      <td>NaN</td>\n",
       "      <td>NaN</td>\n",
       "      <td>17</td>\n",
       "      <td>NaN</td>\n",
       "      <td>3691</td>\n",
       "      <td>3716.0</td>\n",
       "      <td>NaN</td>\n",
       "      <td>12113.384792</td>\n",
       "    </tr>\n",
       "    <tr>\n",
       "      <th>2797</th>\n",
       "      <td>63389</td>\n",
       "      <td>1</td>\n",
       "      <td>9.0</td>\n",
       "      <td>8.0</td>\n",
       "      <td>39</td>\n",
       "      <td>1.0</td>\n",
       "      <td>2825</td>\n",
       "      <td>2900.0</td>\n",
       "      <td>30.0</td>\n",
       "      <td>19691.316640</td>\n",
       "    </tr>\n",
       "    <tr>\n",
       "      <th>8550</th>\n",
       "      <td>69774</td>\n",
       "      <td>1</td>\n",
       "      <td>5.0</td>\n",
       "      <td>0.0</td>\n",
       "      <td>37</td>\n",
       "      <td>1.0</td>\n",
       "      <td>2233</td>\n",
       "      <td>2300.0</td>\n",
       "      <td>30.0</td>\n",
       "      <td>14498.735626</td>\n",
       "    </tr>\n",
       "  </tbody>\n",
       "</table>\n",
       "<p>9358 rows × 10 columns</p>\n",
       "</div>"
      ],
      "text/plain": [
       "      caseid  outcome  birthwgt_lb1  birthwgt_oz1  prglngth  nbrnaliv  agecon  \\\n",
       "4223   64962        1           4.0           2.0        32       1.0    2083   \n",
       "7719   68839        1           7.0           4.0        39       1.0    1966   \n",
       "3982   64687        1           6.0           3.0        35       1.0    2033   \n",
       "7688   68818        1           8.0           7.0        37       1.0    2000   \n",
       "1401   61964        1           8.0           0.0        36       1.0    1641   \n",
       "...      ...      ...           ...           ...       ...       ...     ...   \n",
       "8986   70277        2           NaN           NaN         7       NaN    1833   \n",
       "8770   70039        2           NaN           NaN        10       NaN    2500   \n",
       "3762   64440        2           NaN           NaN        17       NaN    3691   \n",
       "2797   63389        1           9.0           8.0        39       1.0    2825   \n",
       "8550   69774        1           5.0           0.0        37       1.0    2233   \n",
       "\n",
       "      agepreg  hpagelb  wgt2013_2015  \n",
       "4223   2141.0     20.0  21033.515257  \n",
       "7719   2041.0     23.0   3721.763186  \n",
       "3982   2100.0     23.0  12786.601826  \n",
       "7688   2066.0     21.0   9015.032523  \n",
       "1401   1708.0     30.0  16021.945008  \n",
       "...       ...      ...           ...  \n",
       "8986   1841.0      NaN  56384.211988  \n",
       "8770   2516.0      NaN  26442.526851  \n",
       "3762   3716.0      NaN  12113.384792  \n",
       "2797   2900.0     30.0  19691.316640  \n",
       "8550   2300.0     30.0  14498.735626  \n",
       "\n",
       "[9358 rows x 10 columns]"
      ]
     },
     "execution_count": 53,
     "metadata": {},
     "output_type": "execute_result"
    }
   ],
   "source": [
    "nsfg"
   ]
  },
  {
   "cell_type": "code",
   "execution_count": 54,
   "metadata": {},
   "outputs": [
    {
     "data": {
      "text/plain": [
       "4223    4.0\n",
       "7719    7.0\n",
       "3982    6.0\n",
       "7688    8.0\n",
       "1401    8.0\n",
       "       ... \n",
       "8986    NaN\n",
       "8770    NaN\n",
       "3762    NaN\n",
       "2797    9.0\n",
       "8550    5.0\n",
       "Name: birthwgt_lb1, Length: 9358, dtype: float64"
      ]
     },
     "execution_count": 54,
     "metadata": {},
     "output_type": "execute_result"
    }
   ],
   "source": [
    "pounds"
   ]
  },
  {
   "cell_type": "code",
   "execution_count": 55,
   "metadata": {},
   "outputs": [
    {
     "data": {
      "text/plain": [
       "4223    2.0\n",
       "7719    4.0\n",
       "3982    3.0\n",
       "7688    7.0\n",
       "1401    0.0\n",
       "       ... \n",
       "8986    NaN\n",
       "8770    NaN\n",
       "3762    NaN\n",
       "2797    8.0\n",
       "8550    0.0\n",
       "Name: birthwgt_oz1, Length: 9358, dtype: float64"
      ]
     },
     "execution_count": 55,
     "metadata": {},
     "output_type": "execute_result"
    }
   ],
   "source": [
    "ounces"
   ]
  },
  {
   "cell_type": "code",
   "execution_count": 56,
   "metadata": {},
   "outputs": [
    {
     "name": "stdout",
     "output_type": "stream",
     "text": [
      "7.439897784582133\n"
     ]
    }
   ],
   "source": [
    "# Create a Boolean Series for full-term babies\n",
    "full_term = nsfg['prglngth']>=37\n",
    "\n",
    "\n",
    "# Select the weights of full-term babies\n",
    "full_term_weight = birth_weight[full_term]\n",
    "\n",
    "# Compute the mean weight of full-term babies\n",
    "print(full_term_weight.mean())"
   ]
  },
  {
   "cell_type": "code",
   "execution_count": 57,
   "metadata": {},
   "outputs": [
    {
     "data": {
      "text/plain": [
       "4223    4.1250\n",
       "7719    7.2500\n",
       "3982    6.1875\n",
       "7688    8.4375\n",
       "1401    8.0000\n",
       "         ...  \n",
       "8986       NaN\n",
       "8770       NaN\n",
       "3762       NaN\n",
       "2797    9.5000\n",
       "8550    5.0000\n",
       "Length: 9358, dtype: float64"
      ]
     },
     "execution_count": 57,
     "metadata": {},
     "output_type": "execute_result"
    }
   ],
   "source": [
    "birth_weight"
   ]
  },
  {
   "cell_type": "code",
   "execution_count": 58,
   "metadata": {},
   "outputs": [
    {
     "data": {
      "text/plain": [
       "4223    False\n",
       "7719     True\n",
       "3982    False\n",
       "7688     True\n",
       "1401    False\n",
       "        ...  \n",
       "8986    False\n",
       "8770    False\n",
       "3762    False\n",
       "2797     True\n",
       "8550     True\n",
       "Name: prglngth, Length: 9358, dtype: bool"
      ]
     },
     "execution_count": 58,
     "metadata": {},
     "output_type": "execute_result"
    }
   ],
   "source": [
    "full_term = nsfg['prglngth']>=37\n",
    "full_term"
   ]
  },
  {
   "cell_type": "code",
   "execution_count": 59,
   "metadata": {},
   "outputs": [
    {
     "data": {
      "text/plain": [
       "7719    7.2500\n",
       "7688    8.4375\n",
       "6771    7.6875\n",
       "6065    7.3125\n",
       "9127    6.5625\n",
       "         ...  \n",
       "2378    8.1250\n",
       "8693    7.6250\n",
       "2244    6.3125\n",
       "2797    9.5000\n",
       "8550    5.0000\n",
       "Length: 5684, dtype: float64"
      ]
     },
     "execution_count": 59,
     "metadata": {},
     "output_type": "execute_result"
    }
   ],
   "source": [
    "# Select the weights of full-term babies\n",
    "full_term_weight = birth_weight[full_term]\n",
    "full_term_weight"
   ]
  },
  {
   "cell_type": "markdown",
   "metadata": {},
   "source": [
    "## Filter\n",
    "\n",
    "In the previous exercise, you computed the mean birth weight for full-term babies; you filtered out preterm babies because their distribution of weight is different.\n",
    "\n",
    "The distribution of weight is also different for multiple births, like twins and triplets. In this exercise, you'll filter them out, too, and see what effect it has on the mean."
   ]
  },
  {
   "cell_type": "markdown",
   "metadata": {},
   "source": [
    "<li> Use the variable <code>'nbrnaliv'</code> to make a Boolean Series that is <code>True</code> for single births (where <code>'nbrnaliv'</code> equals 1) and <code>False</code> otherwise.\n",
    "<li>Use Boolean Series and logical operators to select single, full-term babies and compute their mean birth weight.\n",
    "<li>For comparison, select multiple, full-term babies and compute their mean birth weight."
   ]
  },
  {
   "cell_type": "code",
   "execution_count": 60,
   "metadata": {},
   "outputs": [
    {
     "name": "stdout",
     "output_type": "stream",
     "text": [
      "Single full-term mean: 7.450575076978808\n",
      "Multiple full-term mean: 5.538306451612903\n"
     ]
    }
   ],
   "source": [
    "# Filter full-term babies\n",
    "full_term = nsfg['prglngth'] >= 37\n",
    "\n",
    "# Filter single births\n",
    "single = nsfg['nbrnaliv']==1\n",
    "\n",
    "# Compute birth weight for single full-term babies\n",
    "single_full_term_weight = birth_weight[full_term & single ]\n",
    "print('Single full-term mean:', single_full_term_weight.mean())\n",
    "\n",
    "# Compute birth weight for multiple full-term babies\n",
    "#  ~ hace que las verdades sean falsas y visceversa\n",
    "\n",
    "mult_full_term_weight = birth_weight[ full_term & ~single]\n",
    "print('Multiple full-term mean:', mult_full_term_weight.mean())"
   ]
  },
  {
   "cell_type": "code",
   "execution_count": 61,
   "metadata": {},
   "outputs": [
    {
     "data": {
      "text/plain": [
       "4223    False\n",
       "7719     True\n",
       "3982    False\n",
       "7688     True\n",
       "1401    False\n",
       "        ...  \n",
       "8986    False\n",
       "8770    False\n",
       "3762    False\n",
       "2797     True\n",
       "8550     True\n",
       "Name: prglngth, Length: 9358, dtype: bool"
      ]
     },
     "execution_count": 61,
     "metadata": {},
     "output_type": "execute_result"
    }
   ],
   "source": [
    "# Filter full-term babies\n",
    "full_term = nsfg['prglngth'] >= 37\n",
    "full_term "
   ]
  },
  {
   "cell_type": "code",
   "execution_count": 62,
   "metadata": {},
   "outputs": [
    {
     "data": {
      "text/plain": [
       "4223     True\n",
       "7719     True\n",
       "3982     True\n",
       "7688     True\n",
       "1401     True\n",
       "        ...  \n",
       "8986    False\n",
       "8770    False\n",
       "3762    False\n",
       "2797     True\n",
       "8550     True\n",
       "Name: nbrnaliv, Length: 9358, dtype: bool"
      ]
     },
     "execution_count": 62,
     "metadata": {},
     "output_type": "execute_result"
    }
   ],
   "source": [
    "# Filter single births\n",
    "single = nsfg['nbrnaliv']==1\n",
    "single"
   ]
  },
  {
   "cell_type": "code",
   "execution_count": 63,
   "metadata": {},
   "outputs": [
    {
     "data": {
      "text/plain": [
       "7719    7.2500\n",
       "7688    8.4375\n",
       "6771    7.6875\n",
       "6065    7.3125\n",
       "9127    6.5625\n",
       "         ...  \n",
       "2378    8.1250\n",
       "8693    7.6250\n",
       "2244    6.3125\n",
       "2797    9.5000\n",
       "8550    5.0000\n",
       "Length: 5626, dtype: float64"
      ]
     },
     "execution_count": 63,
     "metadata": {},
     "output_type": "execute_result"
    }
   ],
   "source": [
    "# Compute birth weight for single full-term babies\n",
    "single_full_term_weight = birth_weight[full_term & single ]\n",
    "single_full_term_weight"
   ]
  },
  {
   "cell_type": "markdown",
   "metadata": {},
   "source": [
    "## Probability mass functions"
   ]
  },
  {
   "cell_type": "code",
   "execution_count": 64,
   "metadata": {},
   "outputs": [
    {
     "name": "stdout",
     "output_type": "stream",
     "text": [
      "   year   age  cohort  sex  race  educ  realinc  gunlaw  grass  wtssall\n",
      "0  1972  26.0  1946.0    1     1  18.0  13537.0     2.0    NaN   0.8893\n",
      "1  1972  38.0  1934.0    2     1  12.0  18951.0     1.0    NaN   0.4446\n",
      "2  1972  57.0  1915.0    1     1  12.0  30458.0     1.0    NaN   1.3339\n",
      "3  1972  61.0  1911.0    2     1  14.0  37226.0     1.0    NaN   0.8893\n",
      "4  1972  59.0  1913.0    1     1  12.0  30458.0     2.0    NaN   0.8893\n"
     ]
    },
    {
     "data": {
      "image/png": "[encoded data removed]",
      "text/plain": [
       "<Figure size 640x480 with 1 Axes>"
      ]
     },
     "metadata": {},
     "output_type": "display_data"
    },
    {
     "name": "stdout",
     "output_type": "stream",
     "text": [
      "0.0       144\n",
      "1.0        38\n",
      "2.0       151\n",
      "3.0       246\n",
      "4.0       290\n",
      "5.0       379\n",
      "6.0       842\n",
      "7.0       860\n",
      "8.0      2421\n",
      "9.0      1963\n",
      "10.0     2819\n",
      "11.0     3864\n",
      "12.0    19145\n",
      "13.0     5405\n",
      "14.0     6980\n",
      "Name: , dtype: int64\n",
      "0.0    0.002311\n",
      "1.0    0.000610\n",
      "2.0    0.002424\n",
      "Name: , dtype: float64\n"
     ]
    },
    {
     "data": {
      "image/png": "[encoded data removed]",
      "text/plain": [
       "<Figure size 640x480 with 1 Axes>"
      ]
     },
     "metadata": {},
     "output_type": "display_data"
    }
   ],
   "source": [
    "#Vamos a utilizar un conjunto de datos de una encuesta social general\n",
    "#Es una muestra representativa de personas adultas a quienes se les hacen preguntas sobre demografia (temas sociales y politicos)\n",
    "import pandas as pd\n",
    "import numpy as np\n",
    "\n",
    "#Vemos que tipo de datos contiene\n",
    "gss=pd.read_hdf('gss.hdf5','gss')\n",
    "print(gss.head())\n",
    "\n",
    "#Queremos hacer un histograma de la variable educacion \n",
    "#1) Importamos las siguientes librerias\n",
    "import matplotlib.pyplot as plt\n",
    "\n",
    "#2) Seleccionamos la variable de la cual queremos hacer el histograma\n",
    "educ=gss['educ']\n",
    "educ\n",
    "\n",
    "#3)Graficamos el histograma\n",
    "#eliminamos los NaN con .dropna\n",
    "plt.hist(educ.dropna(),label='educacion') \n",
    "# Label the axes\n",
    "plt.xlabel('Años de educación')\n",
    "plt.ylabel('Conteo')\n",
    "plt.show()\n",
    "\n",
    "#INTERPRETACIÓN:\n",
    "#Segun el histograma podemos ver la forma general de la distribución y la tendencia central\n",
    "#pero un histograma no es la mejor forma de visualizar dicha distribución, una alternativa es la \n",
    "#funcion de masa de probabilidad (pmf), la que contiene los valores unicos de los datos y su frecuencia\n",
    "\n",
    "\n",
    "#-------------------funcion de masa de probabilidad (pmf) \n",
    "#Representa los valores posibles en una distribución y sus probabilidades\n",
    "\n",
    "\n",
    "#Veamos unos ejemplos:\n",
    "#-------------------------------EJEMPLO 1--------------------------------\n",
    "#-------------------Años de educación de las personas encuestadas--------\n",
    "#------------------------------------------------------------------------\n",
    "#1) Importamos la siguiente libreria \n",
    "from empiricaldist import Pmf, Cdf\n",
    "\n",
    "#2) Seleccionamos la variable de la cual queremos sacar la pmf\n",
    "educ=gss['educ']\n",
    "educ\n",
    "\n",
    "#3) Sacamos las variables y su porción\n",
    "pmf_educ = Pmf(Pmf.from_seq(educ, normalize = False))#False nos devuelve la frecuencia  \n",
    "print(pmf_educ.head(15))\n",
    "pmf_educ[12] #19145 tienen 12 años de educación \n",
    "\n",
    "pmf_educ = Pmf(Pmf.from_seq(educ, normalize = True)) #True nos devuelve el %\n",
    "print(pmf_educ.head())\n",
    "pmf_educ[12] #0.3072836414997432 o casi el 31% de los encuestados tienen 12 años de educacion\n",
    "\n",
    "\n",
    "pmf_educ.bar(label ='educ') #.bar traza la pmf como un gráfico de barras\n",
    "plt.xlabel('Años de educación')\n",
    "plt.ylabel('PMF funcion de masa de probabilidad')\n",
    "plt.show()"
   ]
  },
  {
   "cell_type": "code",
   "execution_count": 65,
   "metadata": {},
   "outputs": [
    {
     "name": "stdout",
     "output_type": "stream",
     "text": [
      "0.0     0.002311\n",
      "1.0     0.000610\n",
      "2.0     0.002424\n",
      "3.0     0.003948\n",
      "4.0     0.004655\n",
      "5.0     0.006083\n",
      "6.0     0.013514\n",
      "7.0     0.013803\n",
      "8.0     0.038858\n",
      "9.0     0.031507\n",
      "10.0    0.045246\n",
      "11.0    0.062018\n",
      "12.0    0.307284\n",
      "13.0    0.086752\n",
      "14.0    0.112031\n",
      "15.0    0.045519\n",
      "16.0    0.127648\n",
      "17.0    0.028746\n",
      "18.0    0.033850\n",
      "19.0    0.012423\n",
      "20.0    0.020769\n",
      "Name: , dtype: float64\n"
     ]
    },
    {
     "data": {
      "text/plain": [
       "1.0"
      ]
     },
     "execution_count": 65,
     "metadata": {},
     "output_type": "execute_result"
    }
   ],
   "source": [
    "#Veamos unos ejemplos:\n",
    "#-------------------------------EJEMPLO 1--------------------------------\n",
    "#-------------------Años de educación de las personas encuestadas--------\n",
    "#------------------------------------------------------------------------\n",
    "#1) Importamos la siguiente libreria \n",
    "from empiricaldist import Pmf, Cdf\n",
    "\n",
    "#2) Seleccionamos la variable de la cual queremos sacar la pmf\n",
    "educ=gss['educ']\n",
    "educ\n",
    "\n",
    "#3) Sacamos las variables y su porción\n",
    "pmf_educ = Pmf(Pmf.from_seq(educ, normalize = True))#False nos devuelve la frecuencia  \n",
    "print(pmf_educ.head(50\n",
    "                   ))\n",
    "pmf_educ[12] #19145 tienen 12 años de educación \n",
    "sum(pmf_educ)\n"
   ]
  },
  {
   "cell_type": "code",
   "execution_count": 66,
   "metadata": {},
   "outputs": [
    {
     "name": "stdout",
     "output_type": "stream",
     "text": [
      "   year   age  cohort  sex  race  educ  realinc  gunlaw  grass  wtssall\n",
      "0  1972  26.0  1946.0    1     1  18.0  13537.0     2.0    NaN   0.8893\n",
      "1  1972  38.0  1934.0    2     1  12.0  18951.0     1.0    NaN   0.4446\n",
      "2  1972  57.0  1915.0    1     1  12.0  30458.0     1.0    NaN   1.3339\n",
      "3  1972  61.0  1911.0    2     1  14.0  37226.0     1.0    NaN   0.8893\n",
      "4  1972  59.0  1913.0    1     1  12.0  30458.0     2.0    NaN   0.8893\n",
      "1972    0.025822\n",
      "1973    0.024077\n",
      "1974    0.023757\n",
      "1975    0.023853\n",
      "1976    0.023997\n",
      "1977    0.024493\n",
      "1978    0.024525\n",
      "1980    0.023501\n",
      "1982    0.029776\n",
      "1983    0.025598\n",
      "1984    0.023581\n",
      "1985    0.024557\n",
      "1986    0.023533\n",
      "1987    0.029120\n",
      "1988    0.023709\n",
      "1989    0.024605\n",
      "1990    0.021964\n",
      "1991    0.024285\n",
      "1993    0.025710\n",
      "1994    0.047898\n",
      "1996    0.046489\n",
      "1998    0.045337\n",
      "2000    0.045097\n",
      "2002    0.044264\n",
      "2004    0.045016\n",
      "2006    0.072199\n",
      "2008    0.032386\n",
      "2010    0.032722\n",
      "2012    0.031601\n",
      "2014    0.040630\n",
      "2016    0.045897\n",
      "Name: , dtype: float64\n"
     ]
    },
    {
     "data": {
      "image/png": "[encoded data removed]",
      "text/plain": [
       "<Figure size 640x480 with 1 Axes>"
      ]
     },
     "metadata": {},
     "output_type": "display_data"
    }
   ],
   "source": [
    "#-------------------------------EJEMPLO 2--------------------------------\n",
    "#-------------------Años en que se entrevistó cada encuestado------------\n",
    "#------------------------------------------------------------------------\n",
    "import pandas as pd\n",
    "import numpy as np\n",
    "\n",
    "#Vemos que tipo de datos contiene\n",
    "gss=pd.read_hdf('gss.hdf5','gss')\n",
    "print(gss.head())\n",
    "\n",
    "from empiricaldist import Pmf, Cdf\n",
    "\n",
    "# Compute the PMF for year\n",
    "pmf_year = Pmf(Pmf.from_seq(gss['year'], normalize=True),)\n",
    "print(pmf_year) # Print the result\n",
    "\n",
    "pmf_year.bar(label ='educ') #.bar traza la pmf como un gráfico de barras\n",
    "plt.xlabel('Año en que se encuestó la persona')\n",
    "plt.ylabel('PMF funcion de masa de probabilidad')\n",
    "plt.show()"
   ]
  },
  {
   "cell_type": "code",
   "execution_count": 67,
   "metadata": {},
   "outputs": [
    {
     "name": "stdout",
     "output_type": "stream",
     "text": [
      "18.0    0.005620\n",
      "19.0    0.019878\n",
      "20.0    0.018111\n",
      "21.0    0.019219\n",
      "22.0    0.020247\n",
      "          ...   \n",
      "85.0    0.002360\n",
      "86.0    0.001927\n",
      "87.0    0.001702\n",
      "88.0    0.001413\n",
      "89.0    0.003773\n",
      "Name: , Length: 72, dtype: float64\n"
     ]
    },
    {
     "data": {
      "image/png": "[encoded data removed]",
      "text/plain": [
       "<Figure size 2000x500 with 1 Axes>"
      ]
     },
     "metadata": {},
     "output_type": "display_data"
    },
    {
     "name": "stdout",
     "output_type": "stream",
     "text": [
      "18.0    0.005620\n",
      "19.0    0.025497\n",
      "20.0    0.043609\n",
      "21.0    0.062828\n",
      "22.0    0.083075\n",
      "23.0    0.105747\n",
      "24.0    0.126154\n",
      "25.0    0.147589\n",
      "26.0    0.168462\n",
      "27.0    0.189769\n",
      "28.0    0.210979\n",
      "29.0    0.232190\n",
      "30.0    0.253914\n",
      "31.0    0.274771\n",
      "32.0    0.296415\n",
      "33.0    0.318139\n",
      "34.0    0.339028\n",
      "35.0    0.359018\n",
      "36.0    0.379281\n",
      "37.0    0.398645\n",
      "38.0    0.419020\n",
      "39.0    0.437340\n",
      "40.0    0.458262\n",
      "41.0    0.477433\n",
      "42.0    0.495866\n",
      "43.0    0.514844\n",
      "44.0    0.533662\n",
      "45.0    0.551468\n",
      "46.0    0.570110\n",
      "47.0    0.588542\n",
      "Name: , dtype: float64\n",
      "0.2539137136526389\n"
     ]
    },
    {
     "data": {
      "image/png": "[encoded data removed]",
      "text/plain": [
       "<Figure size 640x480 with 1 Axes>"
      ]
     },
     "metadata": {},
     "output_type": "display_data"
    },
    {
     "name": "stdout",
     "output_type": "stream",
     "text": [
      "30.0\n",
      "57.0\n"
     ]
    }
   ],
   "source": [
    "#-------------------------------EJEMPLO 3--------------------------------\n",
    "#-----------------------Edad de cada encuestado--------------------------\n",
    "#------------------------------------------------------------------------\n",
    "import pandas as pd\n",
    "import numpy as np\n",
    "\n",
    "#Vemos que tipo de datos contiene\n",
    "gss=pd.read_hdf('gss.hdf5','gss')\n",
    "\n",
    "from empiricaldist import Pmf, Cdf\n",
    "\n",
    "#-------------------funcion de masa de probabilidad (pmf) \n",
    "# Compute the PMF for year\n",
    "pmf_age = Pmf(Pmf.from_seq(gss['age'], normalize = True),)\n",
    "print(pmf_age)\n",
    "\n",
    "#Vamos a obtener un gráfico de un tamaño de 20 de largo y 5 de alto\n",
    "f, ax = plt.subplots(figsize =(20,5))\n",
    "\n",
    "#graficamos la funcion de masa de probabilidad \n",
    "pmf_age.bar()\n",
    "plt.xlabel(\"Edad de la persona en la que fue entrevistas\")\n",
    "plt.ylabel(\"PMF función de masa de probabilidad\")\n",
    "plt.show()\n",
    "\n",
    "\n",
    "#---------------------Distribucion Acumulativa CDF\n",
    "# Select the age column\n",
    "age = gss['age']\n",
    "\n",
    "# Compute the CDF of age\n",
    "cdf_age = Cdf.from_seq(age)\n",
    "print(cdf_age.head(30))\n",
    "\n",
    "# Calculate the CDF of 30 P(Edad <= 30)\n",
    "print(cdf_age[30])\n",
    "\n",
    "#Graficamos la CDF de la edad\n",
    "cdf_age=Cdf.from_seq(gss['age'])\n",
    "cdf_age.plot()\n",
    "plt.xlabel('Edad')\n",
    "plt.ylabel('CDF')\n",
    "plt.show()\n",
    "\n",
    "#Si tenemos una probabilidad y queremos saber que valor es el que lo da se usa cdf.inverse\n",
    "#Queremos encontrar el valor x tal que P(Edad <= x)=0.25\n",
    "# La edad de 30 es el percentil 25 de esta distribucion\n",
    "percentile_25th = cdf_age.inverse(0.25)\n",
    "print(percentile_25th)\n",
    "\n",
    "\n",
    "percentile_75th = cdf_age.inverse(0.75)\n",
    "print(percentile_75th)\n",
    "\n",
    "#el rango intercuantil mide la extension de la distribucion, por lo que es similar a la desviacion estandar \n",
    "irq = percentile_75th -percentile_25th"
   ]
  },
  {
   "cell_type": "markdown",
   "metadata": {},
   "source": [
    "## Make a PMF\n",
    "\n",
    "The GSS dataset has been pre-loaded for you into a DataFrame called <code>gss</code>. You can explore it in the Scrypt to get familiar with it.\n",
    "\n",
    "In this exercise, you'll focus on one variable in this dataset, <code>'year'</code>, which represents the year each respondent was interviewed.\n",
    "\n",
    "<li>Make a PMF for <code>year</code> with <code>normalize=False</code> and display the result."
   ]
  },
  {
   "cell_type": "code",
   "execution_count": 68,
   "metadata": {},
   "outputs": [
    {
     "name": "stdout",
     "output_type": "stream",
     "text": [
      "1972    1613\n",
      "1973    1504\n",
      "1974    1484\n",
      "1975    1490\n",
      "1976    1499\n",
      "1977    1530\n",
      "1978    1532\n",
      "1980    1468\n",
      "1982    1860\n",
      "1983    1599\n",
      "1984    1473\n",
      "1985    1534\n",
      "1986    1470\n",
      "1987    1819\n",
      "1988    1481\n",
      "1989    1537\n",
      "1990    1372\n",
      "1991    1517\n",
      "1993    1606\n",
      "1994    2992\n",
      "1996    2904\n",
      "1998    2832\n",
      "2000    2817\n",
      "2002    2765\n",
      "2004    2812\n",
      "2006    4510\n",
      "2008    2023\n",
      "2010    2044\n",
      "2012    1974\n",
      "2014    2538\n",
      "2016    2867\n",
      "Name: , dtype: int64\n"
     ]
    }
   ],
   "source": [
    "from empiricaldist import Pmf, Cdf\n",
    "\n",
    "# Compute the PMF for year\n",
    "\n",
    "pmf_year = Pmf(Pmf.from_seq(gss['year'], normalize=False),)\n",
    "\n",
    "# Print the result\n",
    "print(pmf_year)"
   ]
  },
  {
   "cell_type": "markdown",
   "metadata": {},
   "source": [
    "Question\n",
    "\n",
    "How many respondents were interviewed in 2016?"
   ]
  },
  {
   "cell_type": "markdown",
   "metadata": {},
   "source": [
    "## Plot a PMF\n",
    "\n",
    "Now let's plot a PMF for the age of the respondents in the GSS dataset. The variable <code>'age'</code> contains respondents' age in years."
   ]
  },
  {
   "cell_type": "markdown",
   "metadata": {},
   "source": [
    "<li> Select the <code>'age'</code> column from the <code>gss</code> DataFrame and store the result in <code>age</code>.\n",
    "<li> Make a normalized PMF of <code>age</code>. Store the result in <code>pmf_age</code>.\n",
    "<li> Plot <code>pmf_age</code> as a bar chart."
   ]
  },
  {
   "cell_type": "code",
   "execution_count": 69,
   "metadata": {},
   "outputs": [
    {
     "data": {
      "image/png": "[encoded data removed]",
      "text/plain": [
       "<Figure size 2000x500 with 1 Axes>"
      ]
     },
     "metadata": {},
     "output_type": "display_data"
    }
   ],
   "source": [
    "#Vamos a obtener un gráfico de un tamaño de 20 de largo y 5 de alto\n",
    "\n",
    "f, ax = plt.subplots(figsize =(20,5))\n",
    "# Select the age column\n",
    "age = gss['age']\n",
    "\n",
    "# Make a PMF of age\n",
    "pmf_age = Pmf.from_seq(age,normalize = True)\n",
    "\n",
    "# Plot the PMF\n",
    "pmf_age.bar()\n",
    "# Label the axes\n",
    "plt.xlabel('Age')\n",
    "plt.xticks(rotation=90)\n",
    "plt.ylabel('PMF')\n",
    "\n",
    "plt.show()"
   ]
  },
  {
   "cell_type": "markdown",
   "metadata": {},
   "source": [
    "## Make a CDF\n",
    "\n",
    "In this exercise, you'll make a CDF and use it to determine the fraction of respondents in the GSS dataset who are OLDER than 30.\n",
    "\n",
    "The GSS dataset has been preloaded for you into a DataFrame called <code>gss</code>."
   ]
  },
  {
   "cell_type": "markdown",
   "metadata": {},
   "source": [
    "<li>Select the <code>'age'</code> column. Store the result in <code>age</code>.\n",
    "<li>Compute the CDF of <code>age</code>. Store the result in <code>cdf_age</code>.\n",
    "<li>Calculate the CDF of <code>30</code>."
   ]
  },
  {
   "cell_type": "code",
   "execution_count": 70,
   "metadata": {},
   "outputs": [
    {
     "name": "stdout",
     "output_type": "stream",
     "text": [
      "18.0    0.005620\n",
      "19.0    0.025497\n",
      "20.0    0.043609\n",
      "21.0    0.062828\n",
      "22.0    0.083075\n",
      "          ...   \n",
      "85.0    0.991185\n",
      "86.0    0.993112\n",
      "87.0    0.994814\n",
      "88.0    0.996227\n",
      "89.0    1.000000\n",
      "Name: , Length: 72, dtype: float64\n",
      "0.2539137136526389\n"
     ]
    }
   ],
   "source": [
    "#---------------------Distribucion Acumulativa CDF\n",
    "# Select the age column\n",
    "age = gss['age']\n",
    "\n",
    "# Compute the CDF of age\n",
    "cdf_age = Cdf.from_seq(age)\n",
    "print(cdf_age)\n",
    "\n",
    "# Calculate the CDF of 30\n",
    "print(cdf_age[30])\n"
   ]
  },
  {
   "cell_type": "markdown",
   "metadata": {},
   "source": [
    "Question\n",
    "\n",
    "What fraction of the respondents in the GSS dataset are OLDER than 30?"
   ]
  },
  {
   "cell_type": "markdown",
   "metadata": {},
   "source": [
    "## Compute IQR\n",
    "\n",
    "Recall from the video that the interquartile range (IQR) is the difference between the 75th and 25th percentiles. It is a measure of variability that is robust in the presence of errors or extreme values.\n",
    "\n",
    "In this exercise, you'll compute the interquartile range of income in the GSS dataset. Income is stored in the <code>'realinc'</code> column, and the CDF of income has already been computed and stored in <code>cdf_income</code>."
   ]
  },
  {
   "cell_type": "code",
   "execution_count": 71,
   "metadata": {},
   "outputs": [],
   "source": [
    "cdf_income=Cdf.from_seq(gss['realinc'])"
   ]
  },
  {
   "cell_type": "markdown",
   "metadata": {},
   "source": [
    "<li>Calculate the 75th percentile of income and store it in <code>percentile_75th</code>.\n",
    "    <li>Calculate the 25th percentile of income and store it in <code>percentile_25th</code>.\n",
    "        <li>Calculate the interquartile range of income. Store the result in <code>iqr</code>."
   ]
  },
  {
   "cell_type": "code",
   "execution_count": 72,
   "metadata": {},
   "outputs": [
    {
     "name": "stdout",
     "output_type": "stream",
     "text": [
      "43426.0\n",
      "13750.0\n",
      "29676.0\n"
     ]
    }
   ],
   "source": [
    "# Calculate the 75th percentile \n",
    "percentile_75th = cdf_income.inverse(0.75)\n",
    "print(percentile_75th)\n",
    "\n",
    "# Calculate the 25th percentile\n",
    "percentile_25th = cdf_income.inverse(0.25)\n",
    "print(percentile_25th)\n",
    "\n",
    "# Calculate the interquartile range\n",
    "iqr = percentile_75th -percentile_25th\n",
    "\n",
    "# Print the interquartile range\n",
    "print(iqr)"
   ]
  },
  {
   "cell_type": "markdown",
   "metadata": {},
   "source": [
    "## Plot a CDF\n",
    "\n",
    "The distribution of income in almost every country is long-tailed; that is, there are a small number of people with very high incomes.\n",
    "\n",
    "In the GSS dataset, the variable <code>'realinc'</code> represents total household income, converted to 1986 dollars. We can get a sense of the shape of this distribution by plotting the CDF."
   ]
  },
  {
   "cell_type": "markdown",
   "metadata": {},
   "source": [
    "<li>Select <code>'realinc'</code> from the gss dataset.\n",
    "<li>Make a Cdf object called <code>cdf_income</code>.\n",
    "<li>Create a plot of <code>cdf_income</code> using <code>.plot()</code>."
   ]
  },
  {
   "cell_type": "code",
   "execution_count": 73,
   "metadata": {},
   "outputs": [
    {
     "data": {
      "image/png": "[encoded data removed]",
      "text/plain": [
       "<Figure size 640x480 with 1 Axes>"
      ]
     },
     "metadata": {},
     "output_type": "display_data"
    }
   ],
   "source": [
    "# Select realinc\n",
    "income = gss['realinc']\n",
    "# Make the CDF\n",
    "cdf_income = Cdf.from_seq(income)\n",
    "\n",
    "# Plot it\n",
    "cdf_income.plot()\n",
    "# Label the axes\n",
    "plt.xlabel('Income (1986 USD)')\n",
    "plt.ylabel('CDF')\n",
    "plt.show()"
   ]
  },
  {
   "cell_type": "markdown",
   "metadata": {},
   "source": [
    "## Comparing distributions"
   ]
  },
  {
   "cell_type": "markdown",
   "metadata": {},
   "source": [
    "## Distribution of education\n",
    "\n",
    "Let's begin comparing incomes for different levels of education in the GSS dataset, which has been pre-loaded for you into a DataFrame called <code>gss</code>. The variable <code>educ</code> represents the respondent's years of education.\n",
    "\n",
    "What fraction of respondents report that they have 12 years of education or fewer?"
   ]
  },
  {
   "cell_type": "markdown",
   "metadata": {},
   "source": [
    "## Extract education levels\n",
    "\n",
    "Let's create Boolean Series to identify respondents with different levels of education.\n",
    "\n",
    "In the U.S, 12 years of education usually means the respondent has completed high school (secondary education). A respondent with 14 years of education has probably completed an associate degree (two years of college); someone with 16 years has probably completed a bachelor's degree (four years of college)."
   ]
  },
  {
   "cell_type": "markdown",
   "metadata": {},
   "source": [
    "<li>Complete the line that identifies respondents with associate degrees, that is, people with 14 or more years of education but less than 16.\n",
    "<li>Complete the line that identifies respondents with 12 or fewer years of education.\n",
    "<li>Confirm that the mean of <code>high</code> is the fraction we computed in the previous exercise, about 53%."
   ]
  },
  {
   "cell_type": "code",
   "execution_count": 74,
   "metadata": {},
   "outputs": [
    {
     "name": "stdout",
     "output_type": "stream",
     "text": [
      "0.5308807991547402\n"
     ]
    }
   ],
   "source": [
    "# Select educ\n",
    "educ = gss['educ']\n",
    "\n",
    "# Bachelor's degree\n",
    "bach = (educ >= 16)\n",
    "\n",
    "# Associate degree\n",
    "assc = (14<=educ) & (educ<16)\n",
    "\n",
    "# High school\n",
    "high = (educ <=12)\n",
    "print(high.mean())\n",
    "\n"
   ]
  },
  {
   "cell_type": "markdown",
   "metadata": {},
   "source": [
    "## Plot income CDFs\n",
    "\n",
    "Let's now see what the distribution of income looks like for people with different education levels. You can do this by plotting the CDFs. Recall how Allen plotted the income CDFs of respondents interviewed before and after 1995:\n",
    "\n",
    "<code>Cdf(income[pre95]).plot(label='Before 1995')</code>\n",
    "\n",
    "<code>Cdf(income[~pre95]).plot(label='After 1995')</code>\n",
    "\n",
    "You can assume that Boolean Series have been defined, as in the previous exercise, to identify respondents with different education levels: <code>high</code>, <code>assc</code>, and <code>bach</code>."
   ]
  },
  {
   "cell_type": "markdown",
   "metadata": {},
   "source": [
    "<li>Fill in the missing lines of code to plot the CDFs."
   ]
  },
  {
   "cell_type": "code",
   "execution_count": 77,
   "metadata": {},
   "outputs": [
    {
     "name": "stdout",
     "output_type": "stream",
     "text": [
      "0    13537.0\n",
      "1    18951.0\n",
      "2    30458.0\n",
      "3    37226.0\n",
      "4    30458.0\n",
      "Name: realinc, dtype: float64\n",
      "   year   age  cohort  sex  race  educ  realinc  gunlaw  grass  wtssall\n",
      "0  1972  26.0  1946.0    1     1  18.0  13537.0     2.0    NaN   0.8893\n",
      "1  1972  38.0  1934.0    2     1  12.0  18951.0     1.0    NaN   0.4446\n",
      "2  1972  57.0  1915.0    1     1  12.0  30458.0     1.0    NaN   1.3339\n",
      "3  1972  61.0  1911.0    2     1  14.0  37226.0     1.0    NaN   0.8893\n",
      "4  1972  59.0  1913.0    1     1  12.0  30458.0     2.0    NaN   0.8893\n"
     ]
    },
    {
     "data": {
      "image/png": "[encoded data removed]",
      "text/plain": [
       "<Figure size 640x480 with 1 Axes>"
      ]
     },
     "metadata": {},
     "output_type": "display_data"
    }
   ],
   "source": [
    "income = gss['realinc']\n",
    "print(income.head())\n",
    "print(gss.head())\n",
    "# Plot the CDFs\n",
    "Cdf.from_seq(income[high]).plot(label='High school')\n",
    "Cdf.from_seq(income[assc]).plot(label='Associate')\n",
    "Cdf.from_seq(income[bach]).plot(label='Bachelor')\n",
    "\n",
    "# Label the axes\n",
    "plt.xlabel('Income (1986 USD)')\n",
    "plt.ylabel('CDF')\n",
    "plt.legend()\n",
    "plt.show()"
   ]
  },
  {
   "cell_type": "markdown",
   "metadata": {},
   "source": [
    "Nice job. It might not be surprising that people with more education have higher incomes, but looking at these distributions, we can see where the differences are."
   ]
  },
  {
   "cell_type": "markdown",
   "metadata": {},
   "source": [
    "## Modeling distributions"
   ]
  },
  {
   "cell_type": "code",
   "execution_count": 146,
   "metadata": {},
   "outputs": [
    {
     "data": {
      "image/png": "[encoded data removed]",
      "text/plain": [
       "<Figure size 640x480 with 1 Axes>"
      ]
     },
     "metadata": {},
     "output_type": "display_data"
    }
   ],
   "source": [
    "from scipy.stats import norm #representa la distribucion normal\n",
    "\n",
    "\n",
    "#distribución normal o gaussiana\n",
    "sample = np.random.normal(size=1000) #generamos 1000 numeros aleatorios a partir de una distribucion normal\n",
    "Cdf.from_seq(sample).plot(label = 'CDF de datos originales')\n",
    "\n",
    "xs = np.linspace(-3,3) #np.linspace creamos una matriz de puntos igualmente espaciados entre -3 y 3\n",
    "ys = norm(0,1).cdf(xs) #norm(0,1) crea un objeto que representa una dist normal con media 0 y des est 1\n",
    "                        #cdf(xs) funcion acumulativa\n",
    "plt.plot(xs,ys, color='gray', label = 'CDF de la muestra') #muestra\n",
    "Cdf.from_seq(sample).plot()\n",
    "\n",
    "plt.xlabel('Valores normales aleatorios')\n",
    "plt.ylabel('CDF')\n",
    "plt.legend()\n",
    "plt.show()"
   ]
  },
  {
   "cell_type": "code",
   "execution_count": 150,
   "metadata": {},
   "outputs": [
    {
     "data": {
      "text/plain": [
       "[<matplotlib.lines.Line2D at 0x230d4f399d0>]"
      ]
     },
     "execution_count": 150,
     "metadata": {},
     "output_type": "execute_result"
    },
    {
     "data": {
      "image/png": "[encoded data removed]",
      "text/plain": [
       "<Figure size 640x480 with 1 Axes>"
      ]
     },
     "metadata": {},
     "output_type": "display_data"
    }
   ],
   "source": [
    "#Curva de campana\n",
    "\n",
    "xs = np.linspace(-3,3) #np.linspace creamos una matriz de puntos igualmente espaciados entre -3 y 3\n",
    "ys = norm(0,1).pdf(xs) #norm(0,1) crea un objeto que representa una dist normal con media 0 y des est 1\n",
    "                        #cdf(xs) funcion acumulativa\n",
    "    \n",
    "plt.plot(xs,ys, color='gray', label = 'CDF de la muestra') #muestra\n"
   ]
  },
  {
   "cell_type": "code",
   "execution_count": 151,
   "metadata": {},
   "outputs": [
    {
     "data": {
      "text/plain": [
       "<AxesSubplot:ylabel='Density'>"
      ]
     },
     "execution_count": 151,
     "metadata": {},
     "output_type": "execute_result"
    },
    {
     "data": {
      "image/png": "[encoded data removed]",
      "text/plain": [
       "<Figure size 640x480 with 1 Axes>"
      ]
     },
     "metadata": {},
     "output_type": "display_data"
    }
   ],
   "source": [
    "#Proceso de estimacion de densidad kernel KDE plot\n",
    "#es una forma de pasar  una funcion de masa de probabilidad a una de densidad\n",
    "import seaborn as sns\n",
    "sns.kdeplot(sample)"
   ]
  },
  {
   "cell_type": "markdown",
   "metadata": {},
   "source": [
    "Distribution of income\n",
    "\n",
    "In many datasets, the distribution of income is approximately lognormal, which means that the logarithms of the incomes fit a normal distribution. We'll see whether that's true for the GSS data. As a first step, you'll compute the mean and standard deviation of the log of incomes using NumPy's <code>np.log10()</code> function.\n",
    "\n",
    "Then, you'll use the computed mean and standard deviation to make a <code>norm</code> object using the <code>scipy.stats.norm()</code> function."
   ]
  },
  {
   "cell_type": "markdown",
   "metadata": {},
   "source": [
    "<li>Extract <code>'realinc'</code> from <code>gss</code> and compute its logarithm using <code>np.log10()</code>.\n",
    "<li>Compute the mean and standard deviation of the result.\n",
    "<li>Make a <code>norm</code> object by passing the computed mean and standard deviation to <code>norm()</code>."
   ]
  },
  {
   "cell_type": "code",
   "execution_count": 161,
   "metadata": {},
   "outputs": [
    {
     "name": "stdout",
     "output_type": "stream",
     "text": [
      "4.371148677933652 0.4290082383271419\n"
     ]
    }
   ],
   "source": [
    "# Extract realinc and compute its log\n",
    "income = gss['realinc']\n",
    "log_income =np.log10(income)\n",
    "\n",
    "# Compute mean and standard deviation\n",
    "mean = log_income.mean()\n",
    "std = log_income.std()\n",
    "print(mean, std)\n",
    "\n",
    "# Make a norm object\n",
    "from scipy.stats import norm\n",
    "dist = norm(mean,std)\n"
   ]
  },
  {
   "cell_type": "markdown",
   "metadata": {},
   "source": [
    "Nice work. Now we can plot the model and the observed distribution and see where they differ."
   ]
  },
  {
   "cell_type": "markdown",
   "metadata": {},
   "source": [
    "## Comparing CDFs\n",
    "To see whether the distribution of income is well modeled by a lognormal distribution, we'll compare the CDF of the logarithm of the data to a normal distribution with the same mean and standard deviation. These variables from the previous exercise are available for use:\n",
    "\n",
    "Extract realinc and compute its log\n",
    "\n",
    "<code>log_income = np.log10(gss['realinc'])</code>\n",
    "\n",
    "Compute mean and standard deviation\n",
    "\n",
    "<code>mean, std = log_income.mean(), log_income.std()</code>\n",
    "\n",
    "Make a norm object\n",
    "\n",
    "<code>from scipy.stats import norm\n",
    "    dist = norm(mean, std)</code>\n",
    "\n",
    "<code>dist</code> is a <code>scipy.stats.norm</code> object with the same mean and standard deviation as the data. It provides <code>.cdf()</code>, which evaluates the normal cumulative distribution function.\n",
    "\n",
    "Be careful with capitalization: <code>Cdf()</code>, with an uppercase <code>C</code>, creates <code>Cdf</code> objects. <code>dist.cdf()</code>, with a lowercase <code>c</code> , evaluates the normal cumulative distribution function."
   ]
  },
  {
   "cell_type": "markdown",
   "metadata": {},
   "source": [
    "<li>Evaluate the normal cumulative distribution function using <code>dist.cdf</code>.\n",
    "<li>Use the <code>Cdf()</code> function to compute the CDF of <code>log_income</code>.\n",
    "<li>Plot the result."
   ]
  },
  {
   "cell_type": "code",
   "execution_count": 163,
   "metadata": {},
   "outputs": [
    {
     "data": {
      "image/png": "[encoded data removed]",
      "text/plain": [
       "<Figure size 640x480 with 1 Axes>"
      ]
     },
     "metadata": {},
     "output_type": "display_data"
    }
   ],
   "source": [
    "# Evaluate the model CDF\n",
    "xs = np.linspace(2, 5.5)\n",
    "ys = dist.cdf(xs)\n",
    "# Plot the model CDF\n",
    "plt.clf()\n",
    "plt.plot(xs, ys, color='gray')\n",
    "\n",
    "# Create and plot the Cdf of log_income\n",
    "Cdf.from_seq(log_income).plot()\n",
    "    \n",
    "# Label the axes\n",
    "plt.xlabel('log10 of realinc')\n",
    "plt.ylabel('CDF')\n",
    "plt.show()"
   ]
  },
  {
   "cell_type": "markdown",
   "metadata": {},
   "source": [
    "Good job. The lognormal model is a pretty good fit for the data, but clearly not a perfect match. That's what real data is like; sometimes it doesn't fit the model."
   ]
  },
  {
   "cell_type": "markdown",
   "metadata": {},
   "source": [
    "## Comparing PDFs\n",
    "\n",
    "In the previous exercise, we used CDFs to see if the distribution of income is lognormal. We can make the same comparison using a PDF and KDE. That's what you'll do in this exercise!\n",
    "\n",
    "As before, the norm object dist is available in your workspace:\n",
    "\n",
    "<code>from scipy.stats import norm\n",
    "dist = norm(mean, std)</code>\n",
    "\n",
    "Just as all norm objects have a .cdf() method, they also have a .pdf() method.\n",
    "\n",
    "To create a KDE plot, you can use Seaborn's kdeplot() function."
   ]
  },
  {
   "cell_type": "markdown",
   "metadata": {},
   "source": [
    "<li>Evaluate the normal PDF using <code>dist</code>, which is a <code>norm</code> object with the same mean and standard deviation as the data.\n",
    "<li>Make a KDE plot of the logarithms of the incomes, using <code>log_income</code>, which is a Series object."
   ]
  },
  {
   "cell_type": "code",
   "execution_count": 165,
   "metadata": {},
   "outputs": [
    {
     "data": {
      "image/png": "[encoded data removed]",
      "text/plain": [
       "<Figure size 640x480 with 1 Axes>"
      ]
     },
     "metadata": {},
     "output_type": "display_data"
    }
   ],
   "source": [
    "# Evaluate the normal PDF\n",
    "xs = np.linspace(2, 5.5)\n",
    "ys = dist.pdf(xs)\n",
    "\n",
    "# Plot the model PDF\n",
    "plt.clf()\n",
    "plt.plot(xs, ys, color='gray')\n",
    "\n",
    "# Plot the data KDE\n",
    "sns.kdeplot(log_income)\n",
    "\n",
    "# Label the axes\n",
    "plt.xlabel('log10 of realinc')\n",
    "plt.ylabel('PDF')\n",
    "plt.show()"
   ]
  },
  {
   "cell_type": "markdown",
   "metadata": {},
   "source": [
    "We've seen several ways to vizualize and compare distributions: PMFs, CDFs, and KDE plots. In the next presentation we'll explore relationships between variables, starting with heights and weights from a large survey of adults in the U.S."
   ]
  }
 ],
 "metadata": {
  "kernelspec": {
   "display_name": "Python 3 (ipykernel)",
   "language": "python",
   "name": "python3"
  },
  "language_info": {
   "codemirror_mode": {
    "name": "ipython",
    "version": 3
   },
   "file_extension": ".py",
   "mimetype": "text/x-python",
   "name": "python",
   "nbconvert_exporter": "python",
   "pygments_lexer": "ipython3",
   "version": "3.9.13"
  }
 },
 "nbformat": 4,
 "nbformat_minor": 4
}
