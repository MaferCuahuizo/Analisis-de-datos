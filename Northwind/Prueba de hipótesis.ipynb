{
 "cells": [
  {
   "cell_type": "markdown",
   "id": "93adfc21",
   "metadata": {},
   "source": [
    "# PRUEBAS DE HIPÓTESIS\n",
    "##### Cuahuizo Astorga María Fernanda 201908424\n",
    "\n",
    "## Análisis de ventas en la base de datos Northwind"
   ]
  },
  {
   "cell_type": "markdown",
   "id": "3829dd21",
   "metadata": {},
   "source": [
    "La base de datos Northwind es una base de datos de muestra creada originalmente por Microsoft y utilizada como base para sus tutoriales en una variedad de productos de bases de datos durante décadas. La base de datos de Northwind contiene los datos de ventas de una empresa ficticia llamada \"Northwind Traders\", que importa y exporta alimentos especiales de todo el mundo. La base de datos Northwind es un esquema de tutorial excelente para un ERP de pequeña empresa, con clientes, pedidos, inventario, compras, proveedores, envíos, empleados y contabilidad de entrada única. Desde entonces, la base de datos Northwind se ha portado a una variedad de bases de datos que no son de Microsoft, incluido PostgreSQL."
   ]
  },
  {
   "cell_type": "code",
   "execution_count": 1,
   "id": "689cb5c4",
   "metadata": {},
   "outputs": [],
   "source": [
    "import pandas as pd \n",
    "import numpy as np\n",
    "from empiricaldist import Pmf, Cdf\n",
    "import matplotlib.pyplot as plt\n",
    "import seaborn as sns\n",
    "import scipy\n",
    "import pingouin as pg"
   ]
  },
  {
   "cell_type": "code",
   "execution_count": 2,
   "id": "d6bf394c",
   "metadata": {},
   "outputs": [
    {
     "data": {
      "text/html": [
       "<div>\n",
       "<style scoped>\n",
       "    .dataframe tbody tr th:only-of-type {\n",
       "        vertical-align: middle;\n",
       "    }\n",
       "\n",
       "    .dataframe tbody tr th {\n",
       "        vertical-align: top;\n",
       "    }\n",
       "\n",
       "    .dataframe thead th {\n",
       "        text-align: right;\n",
       "    }\n",
       "</style>\n",
       "<table border=\"1\" class=\"dataframe\">\n",
       "  <thead>\n",
       "    <tr style=\"text-align: right;\">\n",
       "      <th></th>\n",
       "      <th>order_id</th>\n",
       "      <th>product_id</th>\n",
       "      <th>unit_price</th>\n",
       "      <th>quantity</th>\n",
       "      <th>discount</th>\n",
       "    </tr>\n",
       "  </thead>\n",
       "  <tbody>\n",
       "    <tr>\n",
       "      <th>0</th>\n",
       "      <td>10248</td>\n",
       "      <td>11</td>\n",
       "      <td>14.0</td>\n",
       "      <td>12</td>\n",
       "      <td>0.0</td>\n",
       "    </tr>\n",
       "    <tr>\n",
       "      <th>1</th>\n",
       "      <td>10248</td>\n",
       "      <td>42</td>\n",
       "      <td>9.8</td>\n",
       "      <td>10</td>\n",
       "      <td>0.0</td>\n",
       "    </tr>\n",
       "    <tr>\n",
       "      <th>2</th>\n",
       "      <td>10248</td>\n",
       "      <td>72</td>\n",
       "      <td>34.8</td>\n",
       "      <td>5</td>\n",
       "      <td>0.0</td>\n",
       "    </tr>\n",
       "    <tr>\n",
       "      <th>3</th>\n",
       "      <td>10249</td>\n",
       "      <td>14</td>\n",
       "      <td>18.6</td>\n",
       "      <td>9</td>\n",
       "      <td>0.0</td>\n",
       "    </tr>\n",
       "    <tr>\n",
       "      <th>4</th>\n",
       "      <td>10249</td>\n",
       "      <td>51</td>\n",
       "      <td>42.4</td>\n",
       "      <td>40</td>\n",
       "      <td>0.0</td>\n",
       "    </tr>\n",
       "  </tbody>\n",
       "</table>\n",
       "</div>"
      ],
      "text/plain": [
       "   order_id  product_id  unit_price  quantity  discount\n",
       "0     10248          11        14.0        12       0.0\n",
       "1     10248          42         9.8        10       0.0\n",
       "2     10248          72        34.8         5       0.0\n",
       "3     10249          14        18.6         9       0.0\n",
       "4     10249          51        42.4        40       0.0"
      ]
     },
     "execution_count": 2,
     "metadata": {},
     "output_type": "execute_result"
    }
   ],
   "source": [
    "ventas = pd.read_csv('northwind_order_details.csv')\n",
    "ventas.head()"
   ]
  },
  {
   "cell_type": "code",
   "execution_count": 3,
   "id": "e84513df",
   "metadata": {},
   "outputs": [
    {
     "name": "stdout",
     "output_type": "stream",
     "text": [
      "El tipo de cosa que es ventas es: \n",
      "  <class 'pandas.core.frame.DataFrame'>\n",
      "El tipo de cosas que tiene nuestro archivo ventas es: \n",
      " order_id        int64\n",
      "product_id      int64\n",
      "unit_price    float64\n",
      "quantity        int64\n",
      "discount      float64\n",
      "dtype: object\n",
      "El número de filas y columnas de  nuestro archivo ventas es, respectivamente : \n",
      " (2155, 5)\n",
      "Los nombres de las columnas de  nuestro archivo ventas es: \n",
      " Index(['order_id', 'product_id', 'unit_price', 'quantity', 'discount'], dtype='object')\n",
      "¿Hay algun valor faltante en nuestra base de datos? \n",
      "  False\n",
      "En caso de que si, cuantos faltan?: \n",
      "  order_id      0\n",
      "product_id    0\n",
      "unit_price    0\n",
      "quantity      0\n",
      "discount      0\n",
      "dtype: int64\n"
     ]
    }
   ],
   "source": [
    "#Vemos que cosa es \"ventas\"\n",
    "\n",
    "print(\"El tipo de cosa que es ventas es: \\n \", type(ventas)) \n",
    "\n",
    "#Tipo de cosas que contiene \"ventas\"\n",
    "print(\"El tipo de cosas que tiene nuestro archivo ventas es: \\n\" ,  ventas.dtypes)\n",
    "\n",
    "#Número de filas y columnas\n",
    "print(\"El número de filas y columnas de  nuestro archivo ventas es, respectivamente : \\n\", ventas.shape)\n",
    "\n",
    "#Nombres de las columnas\n",
    "print(\"Los nombres de las columnas de  nuestro archivo ventas es: \\n\",ventas.columns)\n",
    "\n",
    "#Vemos si falta al menos un valor en los datos\n",
    "print(\"¿Hay algun valor faltante en nuestra base de datos? \\n \", ventas.isnull().values.any())\n",
    "\n",
    "#Vemos cuantos valores faltan en cada una de las columnas de DataFrame\n",
    "print(\"En caso de que si, cuantos faltan?: \\n \", ventas.isnull().sum())"
   ]
  },
  {
   "cell_type": "code",
   "execution_count": 4,
   "id": "985425b8",
   "metadata": {},
   "outputs": [
    {
     "data": {
      "text/html": [
       "<div>\n",
       "<style scoped>\n",
       "    .dataframe tbody tr th:only-of-type {\n",
       "        vertical-align: middle;\n",
       "    }\n",
       "\n",
       "    .dataframe tbody tr th {\n",
       "        vertical-align: top;\n",
       "    }\n",
       "\n",
       "    .dataframe thead th {\n",
       "        text-align: right;\n",
       "    }\n",
       "</style>\n",
       "<table border=\"1\" class=\"dataframe\">\n",
       "  <thead>\n",
       "    <tr style=\"text-align: right;\">\n",
       "      <th></th>\n",
       "      <th>order_id</th>\n",
       "      <th>product_id</th>\n",
       "      <th>unit_price</th>\n",
       "      <th>quantity</th>\n",
       "      <th>discount</th>\n",
       "      <th>ingresos</th>\n",
       "    </tr>\n",
       "  </thead>\n",
       "  <tbody>\n",
       "    <tr>\n",
       "      <th>0</th>\n",
       "      <td>10248</td>\n",
       "      <td>11</td>\n",
       "      <td>14.00</td>\n",
       "      <td>12</td>\n",
       "      <td>0.00</td>\n",
       "      <td>168.0</td>\n",
       "    </tr>\n",
       "    <tr>\n",
       "      <th>1</th>\n",
       "      <td>10248</td>\n",
       "      <td>42</td>\n",
       "      <td>9.80</td>\n",
       "      <td>10</td>\n",
       "      <td>0.00</td>\n",
       "      <td>98.0</td>\n",
       "    </tr>\n",
       "    <tr>\n",
       "      <th>2</th>\n",
       "      <td>10248</td>\n",
       "      <td>72</td>\n",
       "      <td>34.80</td>\n",
       "      <td>5</td>\n",
       "      <td>0.00</td>\n",
       "      <td>174.0</td>\n",
       "    </tr>\n",
       "    <tr>\n",
       "      <th>3</th>\n",
       "      <td>10249</td>\n",
       "      <td>14</td>\n",
       "      <td>18.60</td>\n",
       "      <td>9</td>\n",
       "      <td>0.00</td>\n",
       "      <td>167.4</td>\n",
       "    </tr>\n",
       "    <tr>\n",
       "      <th>4</th>\n",
       "      <td>10249</td>\n",
       "      <td>51</td>\n",
       "      <td>42.40</td>\n",
       "      <td>40</td>\n",
       "      <td>0.00</td>\n",
       "      <td>1696.0</td>\n",
       "    </tr>\n",
       "    <tr>\n",
       "      <th>...</th>\n",
       "      <td>...</td>\n",
       "      <td>...</td>\n",
       "      <td>...</td>\n",
       "      <td>...</td>\n",
       "      <td>...</td>\n",
       "      <td>...</td>\n",
       "    </tr>\n",
       "    <tr>\n",
       "      <th>2150</th>\n",
       "      <td>11077</td>\n",
       "      <td>64</td>\n",
       "      <td>33.25</td>\n",
       "      <td>2</td>\n",
       "      <td>0.03</td>\n",
       "      <td>66.5</td>\n",
       "    </tr>\n",
       "    <tr>\n",
       "      <th>2151</th>\n",
       "      <td>11077</td>\n",
       "      <td>66</td>\n",
       "      <td>17.00</td>\n",
       "      <td>1</td>\n",
       "      <td>0.00</td>\n",
       "      <td>17.0</td>\n",
       "    </tr>\n",
       "    <tr>\n",
       "      <th>2152</th>\n",
       "      <td>11077</td>\n",
       "      <td>73</td>\n",
       "      <td>15.00</td>\n",
       "      <td>2</td>\n",
       "      <td>0.01</td>\n",
       "      <td>30.0</td>\n",
       "    </tr>\n",
       "    <tr>\n",
       "      <th>2153</th>\n",
       "      <td>11077</td>\n",
       "      <td>75</td>\n",
       "      <td>7.75</td>\n",
       "      <td>4</td>\n",
       "      <td>0.00</td>\n",
       "      <td>31.0</td>\n",
       "    </tr>\n",
       "    <tr>\n",
       "      <th>2154</th>\n",
       "      <td>11077</td>\n",
       "      <td>77</td>\n",
       "      <td>13.00</td>\n",
       "      <td>2</td>\n",
       "      <td>0.00</td>\n",
       "      <td>26.0</td>\n",
       "    </tr>\n",
       "  </tbody>\n",
       "</table>\n",
       "<p>2155 rows × 6 columns</p>\n",
       "</div>"
      ],
      "text/plain": [
       "      order_id  product_id  unit_price  quantity  discount  ingresos\n",
       "0        10248          11       14.00        12      0.00     168.0\n",
       "1        10248          42        9.80        10      0.00      98.0\n",
       "2        10248          72       34.80         5      0.00     174.0\n",
       "3        10249          14       18.60         9      0.00     167.4\n",
       "4        10249          51       42.40        40      0.00    1696.0\n",
       "...        ...         ...         ...       ...       ...       ...\n",
       "2150     11077          64       33.25         2      0.03      66.5\n",
       "2151     11077          66       17.00         1      0.00      17.0\n",
       "2152     11077          73       15.00         2      0.01      30.0\n",
       "2153     11077          75        7.75         4      0.00      31.0\n",
       "2154     11077          77       13.00         2      0.00      26.0\n",
       "\n",
       "[2155 rows x 6 columns]"
      ]
     },
     "execution_count": 4,
     "metadata": {},
     "output_type": "execute_result"
    }
   ],
   "source": [
    "#Agregamos una columna llamada \"total\", la cual nos va a mostrar la cantidad ganada por productos vendidos.\n",
    "ventas['ingresos']=ventas['unit_price']*ventas['quantity'];ventas"
   ]
  },
  {
   "cell_type": "code",
   "execution_count": 5,
   "id": "1bd54687",
   "metadata": {},
   "outputs": [
    {
     "data": {
      "text/html": [
       "<div>\n",
       "<style scoped>\n",
       "    .dataframe tbody tr th:only-of-type {\n",
       "        vertical-align: middle;\n",
       "    }\n",
       "\n",
       "    .dataframe tbody tr th {\n",
       "        vertical-align: top;\n",
       "    }\n",
       "\n",
       "    .dataframe thead th {\n",
       "        text-align: right;\n",
       "    }\n",
       "</style>\n",
       "<table border=\"1\" class=\"dataframe\">\n",
       "  <thead>\n",
       "    <tr style=\"text-align: right;\">\n",
       "      <th></th>\n",
       "      <th>order_id</th>\n",
       "      <th>product_id</th>\n",
       "      <th>unit_price</th>\n",
       "      <th>quantity</th>\n",
       "      <th>discount</th>\n",
       "      <th>ingresos</th>\n",
       "    </tr>\n",
       "  </thead>\n",
       "  <tbody>\n",
       "    <tr>\n",
       "      <th>count</th>\n",
       "      <td>2155.000000</td>\n",
       "      <td>2155.000000</td>\n",
       "      <td>2155.000000</td>\n",
       "      <td>2155.000000</td>\n",
       "      <td>2155.000000</td>\n",
       "      <td>2155.000000</td>\n",
       "    </tr>\n",
       "    <tr>\n",
       "      <th>mean</th>\n",
       "      <td>10659.375870</td>\n",
       "      <td>40.793039</td>\n",
       "      <td>26.218520</td>\n",
       "      <td>23.812993</td>\n",
       "      <td>0.056167</td>\n",
       "      <td>628.519067</td>\n",
       "    </tr>\n",
       "    <tr>\n",
       "      <th>std</th>\n",
       "      <td>241.378032</td>\n",
       "      <td>22.159019</td>\n",
       "      <td>29.827418</td>\n",
       "      <td>19.022047</td>\n",
       "      <td>0.083450</td>\n",
       "      <td>1036.466980</td>\n",
       "    </tr>\n",
       "    <tr>\n",
       "      <th>min</th>\n",
       "      <td>10248.000000</td>\n",
       "      <td>1.000000</td>\n",
       "      <td>2.000000</td>\n",
       "      <td>1.000000</td>\n",
       "      <td>0.000000</td>\n",
       "      <td>4.800000</td>\n",
       "    </tr>\n",
       "    <tr>\n",
       "      <th>25%</th>\n",
       "      <td>10451.000000</td>\n",
       "      <td>22.000000</td>\n",
       "      <td>12.000000</td>\n",
       "      <td>10.000000</td>\n",
       "      <td>0.000000</td>\n",
       "      <td>154.000000</td>\n",
       "    </tr>\n",
       "    <tr>\n",
       "      <th>50%</th>\n",
       "      <td>10657.000000</td>\n",
       "      <td>41.000000</td>\n",
       "      <td>18.400000</td>\n",
       "      <td>20.000000</td>\n",
       "      <td>0.000000</td>\n",
       "      <td>360.000000</td>\n",
       "    </tr>\n",
       "    <tr>\n",
       "      <th>75%</th>\n",
       "      <td>10862.500000</td>\n",
       "      <td>60.000000</td>\n",
       "      <td>32.000000</td>\n",
       "      <td>30.000000</td>\n",
       "      <td>0.100000</td>\n",
       "      <td>722.250000</td>\n",
       "    </tr>\n",
       "    <tr>\n",
       "      <th>max</th>\n",
       "      <td>11077.000000</td>\n",
       "      <td>77.000000</td>\n",
       "      <td>263.500000</td>\n",
       "      <td>130.000000</td>\n",
       "      <td>0.250000</td>\n",
       "      <td>15810.000000</td>\n",
       "    </tr>\n",
       "  </tbody>\n",
       "</table>\n",
       "</div>"
      ],
      "text/plain": [
       "           order_id   product_id   unit_price     quantity     discount  \\\n",
       "count   2155.000000  2155.000000  2155.000000  2155.000000  2155.000000   \n",
       "mean   10659.375870    40.793039    26.218520    23.812993     0.056167   \n",
       "std      241.378032    22.159019    29.827418    19.022047     0.083450   \n",
       "min    10248.000000     1.000000     2.000000     1.000000     0.000000   \n",
       "25%    10451.000000    22.000000    12.000000    10.000000     0.000000   \n",
       "50%    10657.000000    41.000000    18.400000    20.000000     0.000000   \n",
       "75%    10862.500000    60.000000    32.000000    30.000000     0.100000   \n",
       "max    11077.000000    77.000000   263.500000   130.000000     0.250000   \n",
       "\n",
       "           ingresos  \n",
       "count   2155.000000  \n",
       "mean     628.519067  \n",
       "std     1036.466980  \n",
       "min        4.800000  \n",
       "25%      154.000000  \n",
       "50%      360.000000  \n",
       "75%      722.250000  \n",
       "max    15810.000000  "
      ]
     },
     "execution_count": 5,
     "metadata": {},
     "output_type": "execute_result"
    }
   ],
   "source": [
    "#mostramos un resumen del DataFrame anterior\n",
    "ventas.describe()"
   ]
  },
  {
   "cell_type": "markdown",
   "id": "86af382c",
   "metadata": {},
   "source": [
    "# PRIMERA PRUEBA DE HIPÓTESIS\n",
    "\n",
    "Vamos a probar la siguiente hipótesis: **Las campañas de descuento incrementan los ingresos promedio mensuales** para conocer si existe un impacto y en qué magnitud.\n",
    "\n",
    "De manera simbólica sea:\n",
    "\n",
    "$\\mu_1$ el promedio de las ingresos totales con descuento y,\n",
    "\n",
    "$\\mu_2$ el promedio de las ingresos totales sin descuento\n",
    "\n",
    "Vamos a probar:\n",
    "\n",
    "$$H_0 : \\mu_1 = \\mu_2  \\hspace{1cm} vs \\hspace{1cm} H_a : \\mu_1 \\ne\\mu_2 $$\n",
    "\n",
    "Para ello vamos a seguir los pasos siguientes:"
   ]
  },
  {
   "cell_type": "markdown",
   "id": "75b84b07",
   "metadata": {},
   "source": [
    "### 1) Calculamos los promedios de $\\mu_1$ y $\\mu_2$, respectivamente:\n"
   ]
  },
  {
   "cell_type": "code",
   "execution_count": 6,
   "id": "4d461c4b",
   "metadata": {},
   "outputs": [
    {
     "data": {
      "text/plain": [
       "720.4773031026252"
      ]
     },
     "execution_count": 6,
     "metadata": {},
     "output_type": "execute_result"
    }
   ],
   "source": [
    "mu1 = ventas[ventas.discount!=0]['ingresos'].mean();mu1"
   ]
  },
  {
   "cell_type": "code",
   "execution_count": 7,
   "id": "2a7e609d",
   "metadata": {},
   "outputs": [
    {
     "data": {
      "text/plain": [
       "570.0065375854215"
      ]
     },
     "execution_count": 7,
     "metadata": {},
     "output_type": "execute_result"
    }
   ],
   "source": [
    "mu2 = ventas[ventas.discount==0]['ingresos'].mean();mu2\n"
   ]
  },
  {
   "cell_type": "code",
   "execution_count": 8,
   "id": "585bf5c5",
   "metadata": {},
   "outputs": [
    {
     "data": {
      "text/plain": [
       "150.47076551720374"
      ]
     },
     "execution_count": 8,
     "metadata": {},
     "output_type": "execute_result"
    }
   ],
   "source": [
    "impacto = mu1-mu2; impacto"
   ]
  },
  {
   "cell_type": "markdown",
   "id": "0b8deb48",
   "metadata": {},
   "source": [
    "A simple vista podemos ver que si existe un impacto en los ingresos promedio mensuales si se le aplica o no descuentos en los productos, es decir se ganan $150.47 cuando se les aplica un descuento a los productos, pero veamos si esto que afirmamos es correcto haciendo una prueba de hipótesis.\n"
   ]
  },
  {
   "cell_type": "markdown",
   "id": "3b578939",
   "metadata": {},
   "source": [
    "### 2) Estadístico de prueba y región de rechazo\n",
    "\n",
    "##### Estadístico de prueba:\n",
    "\n",
    "$$T =\\frac{\\overline{Y_1}-\\overline{Y_2}-D_0}{S_p\\sqrt{\\frac{1}{n_1}+\\frac{1}{n_2}}}$$\n",
    "\n",
    "Donde \n",
    "\n",
    "$$S_p=\\sqrt{\\frac{(n_1-1)S_1^2+(n_2-1)S_2^2}{n_1+n_2-2}}$$\n",
    "\n",
    "\n",
    "##### Región de rechazo\n",
    "$$RR: \\left \\{|t|>t_{\\alpha/2}\\right \\}$$"
   ]
  },
  {
   "cell_type": "code",
   "execution_count": 9,
   "id": "067d94e1",
   "metadata": {},
   "outputs": [
    {
     "name": "stdout",
     "output_type": "stream",
     "text": [
      "Sp= 1034.1068871822433\n",
      "El estadístico de prueba es t =  3.2928955821800385\n",
      "El valor crítico es tc=  1.9610664382059335\n"
     ]
    }
   ],
   "source": [
    "#Calculamos la media, la desviación estándar y el tamaño de muestra de los ingresos con descuento\n",
    "mean1, std1, n1=ventas[ventas.discount!=0]['ingresos'].agg(['mean', 'std','count'])\n",
    "\n",
    "#Calculamos la media, la desviación estándar y el tamaño de muestra de los ingresos sin descuento\n",
    "mean2, std2, n2=ventas[ventas.discount==0]['ingresos'].agg(['mean', 'std','count'])\n",
    "\n",
    "#Calculamos Sp\n",
    "numerador = (n1-1)*std1**2 + (n2-1)*std2**2\n",
    "denominador=n1+n2-2\n",
    "Sp= np.sqrt(numerador/denominador);print(\"Sp=\",Sp)\n",
    "\n",
    "#Estadístico de prueba \n",
    "t=(mean1-mean2)/(Sp*np.sqrt((1/n1)+(1/n2)));print(\"El estadístico de prueba es t = \", t)\n",
    "\n",
    "#Valor crítico para alpha=0.05\n",
    "tc=scipy.stats.t.ppf (1-.05/2, n1+n2-2); print(\"El valor crítico es tc= \", tc)"
   ]
  },
  {
   "cell_type": "code",
   "execution_count": 10,
   "id": "0fd54176",
   "metadata": {},
   "outputs": [
    {
     "data": {
      "text/html": [
       "<div>\n",
       "<style scoped>\n",
       "    .dataframe tbody tr th:only-of-type {\n",
       "        vertical-align: middle;\n",
       "    }\n",
       "\n",
       "    .dataframe tbody tr th {\n",
       "        vertical-align: top;\n",
       "    }\n",
       "\n",
       "    .dataframe thead th {\n",
       "        text-align: right;\n",
       "    }\n",
       "</style>\n",
       "<table border=\"1\" class=\"dataframe\">\n",
       "  <thead>\n",
       "    <tr style=\"text-align: right;\">\n",
       "      <th></th>\n",
       "      <th>T</th>\n",
       "      <th>dof</th>\n",
       "      <th>alternative</th>\n",
       "      <th>p-val</th>\n",
       "      <th>CI95%</th>\n",
       "      <th>cohen-d</th>\n",
       "      <th>BF10</th>\n",
       "      <th>power</th>\n",
       "    </tr>\n",
       "  </thead>\n",
       "  <tbody>\n",
       "    <tr>\n",
       "      <th>T-test</th>\n",
       "      <td>3.292896</td>\n",
       "      <td>2153</td>\n",
       "      <td>two-sided</td>\n",
       "      <td>0.001008</td>\n",
       "      <td>[60.86, 240.08]</td>\n",
       "      <td>0.145508</td>\n",
       "      <td>10.671</td>\n",
       "      <td>0.908482</td>\n",
       "    </tr>\n",
       "  </tbody>\n",
       "</table>\n",
       "</div>"
      ],
      "text/plain": [
       "               T   dof alternative     p-val            CI95%   cohen-d  \\\n",
       "T-test  3.292896  2153   two-sided  0.001008  [60.86, 240.08]  0.145508   \n",
       "\n",
       "          BF10     power  \n",
       "T-test  10.671  0.908482  "
      ]
     },
     "metadata": {},
     "output_type": "display_data"
    }
   ],
   "source": [
    "#Comprobamos los resultados anteriores con una prueba T de dos muestras con Pingouin\n",
    "import pingouin as pg\n",
    "\n",
    "res = pg.ttest(ventas[ventas.discount!=0]['ingresos'], ventas[ventas.discount==0]['ingresos'], correction=False)\n",
    "display(res)"
   ]
  },
  {
   "cell_type": "markdown",
   "id": "cc4e6f6b",
   "metadata": {},
   "source": [
    "### 3) Conclusiones\n",
    "\n",
    "Dado que el $\\alpha=0.05> 0.001008 = valor p$, significa que podemos concluir que el promedio de las ingresos totales con descuento es estadísticamente diferente al promedio de las ingresos totales sin descuento.\n",
    "\n",
    "De igual forma, podemos sacar la misma conclusión si analizamos la región de rechazo, ya que t=3.29 es mayor a tc=1.96, es decir, al nivel de significancia $\\alpha = 0.05$, la evidencia es suficiente para indicar que existe una diferencia entre el promedio de los ingresos totales con descuento y sin descuento."
   ]
  },
  {
   "cell_type": "markdown",
   "id": "6c84ecfc",
   "metadata": {},
   "source": [
    "Dado que nuestras muestras son grandes, vamos a realizar la misma prueba pero ahora nuestro estadístico de prueba será una normal estandar, Z, con la cual veremos que se obtienen las mismas conclusiones que el párrafo anterior, solo que en este caso z= 3.1720 y el valor critico es tc= 1.95, y dado que $z>t_c$ entonces $H_0$ es rechazada.\n",
    "\n",
    "#### Estadístico de prueba\n",
    "$$Z \\approx\\frac{\\overline{Y_1}-\\overline{Y_2}-(\\mu_1-\\mu_2)}{\\sqrt{\\frac{s_1^2}{n_1}+\\frac{s_2^2}{n_2}}}$$\n",
    "\n",
    "\n",
    "#### Región de rachazo\n",
    "$$RR: \\left \\{|Z|>z_{\\alpha/2}\\right \\}$$"
   ]
  },
  {
   "cell_type": "code",
   "execution_count": 11,
   "id": "76c959b9",
   "metadata": {},
   "outputs": [
    {
     "name": "stdout",
     "output_type": "stream",
     "text": [
      "El estadístico de prueba es Z =  3.1720672369115546\n",
      "El valor crítico es tc=  1.959963984540054\n"
     ]
    }
   ],
   "source": [
    "#Calculamos la media, la desviación estándar y el tamaño de muestra de los ingresos con descuento\n",
    "mean1, std1, n1=ventas[ventas.discount!=0]['ingresos'].agg(['mean', 'std','count'])\n",
    "\n",
    "#Calculamos la media, la desviación estándar y el tamaño de muestra de los ingresos sin descuento\n",
    "mean2, std2, n2=ventas[ventas.discount==0]['ingresos'].agg(['mean', 'std','count'])\n",
    "\n",
    "#Estadístico de prueba \n",
    "Z=(mean1-mean2)/np.sqrt((std1**2/n1)+(std2**2/n2));print(\"El estadístico de prueba es Z = \", Z)\n",
    "\n",
    "#Valor crítico para alpha=0.05\n",
    "tc=scipy.stats.norm.ppf (1-0.05/2); print(\"El valor crítico es tc= \", tc)"
   ]
  },
  {
   "cell_type": "markdown",
   "id": "1871d7b0",
   "metadata": {},
   "source": [
    "# Segunda Prueba de Hipótesis\n",
    "\n",
    "Las campañas de descuento incrementan el ticket promedio por transacción, es decir, veremos qué tipo de descuento genera mayor impacto.\n",
    "\n",
    "Vamos a probar:\n",
    "\n",
    "$$H_0: \\mu_1 = \\mu_2 = \\cdots =\\mu_{10} \\hspace{1cm} vs \\hspace{1cm} H_a: \\quad\\text{ Al menos una igualdad es diferente}$$\n",
    "\n",
    "\n",
    "Donde $\\mu_1, \\mu_2, \\cdots,\\mu_{10}$ corresponden a los promedios de los ingresos de los productos hechos con los siguientes descuentos, respectivamente:"
   ]
  },
  {
   "cell_type": "code",
   "execution_count": 12,
   "id": "b90f0f9d",
   "metadata": {
    "scrolled": true
   },
   "outputs": [
    {
     "name": "stdout",
     "output_type": "stream",
     "text": [
      "0.15\n",
      "0.05\n",
      "0.2\n",
      "0.25\n",
      "0.1\n",
      "0.02\n",
      "0.03\n",
      "0.04\n",
      "0.06\n",
      "0.01\n"
     ]
    }
   ],
   "source": [
    "#quitamos todas las columnas que no tengan descuento\n",
    "ventas.drop(ventas[(ventas['discount'] ==0)].index, inplace=True)\n",
    "\n",
    "#descuentos aplicados\n",
    "print('\\n'.join(map(str, ventas['discount'].unique())))"
   ]
  },
  {
   "cell_type": "markdown",
   "id": "5a2c17f5",
   "metadata": {},
   "source": [
    "Antes de hacer una prueba de hipótesis, vamos a analizar algunos datos de los descuentos"
   ]
  },
  {
   "cell_type": "markdown",
   "id": "a74d2d2c",
   "metadata": {},
   "source": [
    "# Diagrama de caja\n",
    "\n",
    "Los diagrams de caja, también conocidos como de caja y bigotes son gráficos que muestra la distribución de una variable usando cuartiles, de modo que de manera visual podemos inferir algunas cosas sobre su dispersión, ubicación y simetría.\n",
    "\n",
    "Una gráfica de este tipo dibuja un rectángulo cruzado por una línea recta horizontal. Esta linea recta representa la mediana, el segundo cuartil, su base representa el pimer cuartil y su parte superior el tercer cuartil. Al rango entre el primer y tercer cuartil se le conoce como intercuartílico (RIC). Esta es la caja.\n",
    "\n",
    "Además, de la caja salen dos líneas. Una que llega hasta el mínimo valor de los datos en la variable o hasta el primer cuartil menos hasta 1.5 veces el RIC; y otra que llegar hasta el valor máximo de los datos o el tercer cuartil más hasta 1.5 veces el RIC. Estos son los bigotes."
   ]
  },
  {
   "cell_type": "code",
   "execution_count": 13,
   "id": "ac3aafbe",
   "metadata": {},
   "outputs": [
    {
     "data": {
      "image/png": "[encoded data removed]",
      "text/plain": [
       "<Figure size 640x480 with 1 Axes>"
      ]
     },
     "metadata": {},
     "output_type": "display_data"
    }
   ],
   "source": [
    "#Diagrama de caja\n",
    "sns.boxplot(x='discount', y='ingresos', data=ventas, whis=10)\n",
    "plt.yscale('log')\n",
    "sns.despine() \n",
    "plt.xlabel('descuentos')\n",
    "plt.ylabel('ingresos')\n",
    "plt.show()"
   ]
  },
  {
   "cell_type": "markdown",
   "id": "45c04cf0",
   "metadata": {},
   "source": [
    "### Estadísticas descriptivas"
   ]
  },
  {
   "cell_type": "code",
   "execution_count": 14,
   "id": "9b9944d6",
   "metadata": {},
   "outputs": [
    {
     "data": {
      "text/html": [
       "<div>\n",
       "<style scoped>\n",
       "    .dataframe tbody tr th:only-of-type {\n",
       "        vertical-align: middle;\n",
       "    }\n",
       "\n",
       "    .dataframe tbody tr th {\n",
       "        vertical-align: top;\n",
       "    }\n",
       "\n",
       "    .dataframe thead th {\n",
       "        text-align: right;\n",
       "    }\n",
       "</style>\n",
       "<table border=\"1\" class=\"dataframe\">\n",
       "  <thead>\n",
       "    <tr style=\"text-align: right;\">\n",
       "      <th></th>\n",
       "      <th>count</th>\n",
       "      <th>mean</th>\n",
       "      <th>std</th>\n",
       "      <th>min</th>\n",
       "      <th>25%</th>\n",
       "      <th>50%</th>\n",
       "      <th>75%</th>\n",
       "      <th>max</th>\n",
       "    </tr>\n",
       "    <tr>\n",
       "      <th>discount</th>\n",
       "      <th></th>\n",
       "      <th></th>\n",
       "      <th></th>\n",
       "      <th></th>\n",
       "      <th></th>\n",
       "      <th></th>\n",
       "      <th></th>\n",
       "      <th></th>\n",
       "    </tr>\n",
       "  </thead>\n",
       "  <tbody>\n",
       "    <tr>\n",
       "      <th>0.01</th>\n",
       "      <td>1.0</td>\n",
       "      <td>30.000000</td>\n",
       "      <td>NaN</td>\n",
       "      <td>30.00</td>\n",
       "      <td>30.000</td>\n",
       "      <td>30.0</td>\n",
       "      <td>30.000</td>\n",
       "      <td>30.0</td>\n",
       "    </tr>\n",
       "    <tr>\n",
       "      <th>0.02</th>\n",
       "      <td>2.0</td>\n",
       "      <td>30.500000</td>\n",
       "      <td>7.778175</td>\n",
       "      <td>25.00</td>\n",
       "      <td>27.750</td>\n",
       "      <td>30.5</td>\n",
       "      <td>33.250</td>\n",
       "      <td>36.0</td>\n",
       "    </tr>\n",
       "    <tr>\n",
       "      <th>0.03</th>\n",
       "      <td>3.0</td>\n",
       "      <td>41.550000</td>\n",
       "      <td>22.378729</td>\n",
       "      <td>23.25</td>\n",
       "      <td>29.075</td>\n",
       "      <td>34.9</td>\n",
       "      <td>50.700</td>\n",
       "      <td>66.5</td>\n",
       "    </tr>\n",
       "    <tr>\n",
       "      <th>0.04</th>\n",
       "      <td>1.0</td>\n",
       "      <td>81.000000</td>\n",
       "      <td>NaN</td>\n",
       "      <td>81.00</td>\n",
       "      <td>81.000</td>\n",
       "      <td>81.0</td>\n",
       "      <td>81.000</td>\n",
       "      <td>81.0</td>\n",
       "    </tr>\n",
       "    <tr>\n",
       "      <th>0.05</th>\n",
       "      <td>185.0</td>\n",
       "      <td>839.928162</td>\n",
       "      <td>1513.551480</td>\n",
       "      <td>30.00</td>\n",
       "      <td>210.000</td>\n",
       "      <td>420.0</td>\n",
       "      <td>900.000</td>\n",
       "      <td>15810.0</td>\n",
       "    </tr>\n",
       "    <tr>\n",
       "      <th>0.06</th>\n",
       "      <td>1.0</td>\n",
       "      <td>68.000000</td>\n",
       "      <td>NaN</td>\n",
       "      <td>68.00</td>\n",
       "      <td>68.000</td>\n",
       "      <td>68.0</td>\n",
       "      <td>68.000</td>\n",
       "      <td>68.0</td>\n",
       "    </tr>\n",
       "    <tr>\n",
       "      <th>0.10</th>\n",
       "      <td>173.0</td>\n",
       "      <td>587.663064</td>\n",
       "      <td>645.092058</td>\n",
       "      <td>9.60</td>\n",
       "      <td>157.500</td>\n",
       "      <td>372.0</td>\n",
       "      <td>736.000</td>\n",
       "      <td>3952.5</td>\n",
       "    </tr>\n",
       "    <tr>\n",
       "      <th>0.15</th>\n",
       "      <td>157.0</td>\n",
       "      <td>655.722548</td>\n",
       "      <td>682.084813</td>\n",
       "      <td>10.00</td>\n",
       "      <td>216.000</td>\n",
       "      <td>420.0</td>\n",
       "      <td>816.000</td>\n",
       "      <td>3944.0</td>\n",
       "    </tr>\n",
       "    <tr>\n",
       "      <th>0.20</th>\n",
       "      <td>161.0</td>\n",
       "      <td>692.399876</td>\n",
       "      <td>1223.307057</td>\n",
       "      <td>18.00</td>\n",
       "      <td>190.000</td>\n",
       "      <td>387.5</td>\n",
       "      <td>768.000</td>\n",
       "      <td>10540.0</td>\n",
       "    </tr>\n",
       "    <tr>\n",
       "      <th>0.25</th>\n",
       "      <td>154.0</td>\n",
       "      <td>856.610974</td>\n",
       "      <td>1323.451696</td>\n",
       "      <td>19.20</td>\n",
       "      <td>215.250</td>\n",
       "      <td>471.5</td>\n",
       "      <td>985.625</td>\n",
       "      <td>8432.0</td>\n",
       "    </tr>\n",
       "  </tbody>\n",
       "</table>\n",
       "</div>"
      ],
      "text/plain": [
       "          count        mean          std    min      25%    50%      75%  \\\n",
       "discount                                                                   \n",
       "0.01        1.0   30.000000          NaN  30.00   30.000   30.0   30.000   \n",
       "0.02        2.0   30.500000     7.778175  25.00   27.750   30.5   33.250   \n",
       "0.03        3.0   41.550000    22.378729  23.25   29.075   34.9   50.700   \n",
       "0.04        1.0   81.000000          NaN  81.00   81.000   81.0   81.000   \n",
       "0.05      185.0  839.928162  1513.551480  30.00  210.000  420.0  900.000   \n",
       "0.06        1.0   68.000000          NaN  68.00   68.000   68.0   68.000   \n",
       "0.10      173.0  587.663064   645.092058   9.60  157.500  372.0  736.000   \n",
       "0.15      157.0  655.722548   682.084813  10.00  216.000  420.0  816.000   \n",
       "0.20      161.0  692.399876  1223.307057  18.00  190.000  387.5  768.000   \n",
       "0.25      154.0  856.610974  1323.451696  19.20  215.250  471.5  985.625   \n",
       "\n",
       "              max  \n",
       "discount           \n",
       "0.01         30.0  \n",
       "0.02         36.0  \n",
       "0.03         66.5  \n",
       "0.04         81.0  \n",
       "0.05      15810.0  \n",
       "0.06         68.0  \n",
       "0.10       3952.5  \n",
       "0.15       3944.0  \n",
       "0.20      10540.0  \n",
       "0.25       8432.0  "
      ]
     },
     "execution_count": 14,
     "metadata": {},
     "output_type": "execute_result"
    }
   ],
   "source": [
    "#Estadísticas descriptivas: media, meadiana, máx, mín, std y conteos para la columna ingresos\n",
    "ventas.groupby('discount')['ingresos'].describe()"
   ]
  },
  {
   "cell_type": "markdown",
   "id": "bb81b863",
   "metadata": {},
   "source": [
    "### Prueba de hipótesis usando ANOVA"
   ]
  },
  {
   "cell_type": "code",
   "execution_count": 15,
   "id": "2f2074b1",
   "metadata": {},
   "outputs": [
    {
     "data": {
      "text/html": [
       "<div>\n",
       "<style scoped>\n",
       "    .dataframe tbody tr th:only-of-type {\n",
       "        vertical-align: middle;\n",
       "    }\n",
       "\n",
       "    .dataframe tbody tr th {\n",
       "        vertical-align: top;\n",
       "    }\n",
       "\n",
       "    .dataframe thead th {\n",
       "        text-align: right;\n",
       "    }\n",
       "</style>\n",
       "<table border=\"1\" class=\"dataframe\">\n",
       "  <thead>\n",
       "    <tr style=\"text-align: right;\">\n",
       "      <th></th>\n",
       "      <th>Source</th>\n",
       "      <th>SS</th>\n",
       "      <th>DF</th>\n",
       "      <th>MS</th>\n",
       "      <th>F</th>\n",
       "      <th>p-unc</th>\n",
       "      <th>np2</th>\n",
       "    </tr>\n",
       "  </thead>\n",
       "  <tbody>\n",
       "    <tr>\n",
       "      <th>0</th>\n",
       "      <td>discount</td>\n",
       "      <td>1.297695e+07</td>\n",
       "      <td>9</td>\n",
       "      <td>1.441883e+06</td>\n",
       "      <td>1.112563</td>\n",
       "      <td>0.350891</td>\n",
       "      <td>0.011949</td>\n",
       "    </tr>\n",
       "    <tr>\n",
       "      <th>1</th>\n",
       "      <td>Within</td>\n",
       "      <td>1.073089e+09</td>\n",
       "      <td>828</td>\n",
       "      <td>1.296002e+06</td>\n",
       "      <td>NaN</td>\n",
       "      <td>NaN</td>\n",
       "      <td>NaN</td>\n",
       "    </tr>\n",
       "  </tbody>\n",
       "</table>\n",
       "</div>"
      ],
      "text/plain": [
       "     Source            SS   DF            MS         F     p-unc       np2\n",
       "0  discount  1.297695e+07    9  1.441883e+06  1.112563  0.350891  0.011949\n",
       "1    Within  1.073089e+09  828  1.296002e+06       NaN       NaN       NaN"
      ]
     },
     "execution_count": 15,
     "metadata": {},
     "output_type": "execute_result"
    }
   ],
   "source": [
    "pg.anova(data=ventas, dv='ingresos', between='discount', detailed=True)"
   ]
  },
  {
   "cell_type": "markdown",
   "id": "75319bcb",
   "metadata": {},
   "source": [
    "# Conclusiones\n",
    "\n",
    "\n",
    "Del diagrama de caja podemos observar que los descuentos de 0.05, .1, 0.15, 0.20 y 0.25 generan ingresos entre 150 y 210, mientras que el resto de los descuentos generan ingresos entre 26 y 81 aproximadamente, podríamos decir que el descuento que en promedio genera más ingresos sería el de 0.25 ya que tiene una media de 856.61, sin embargo, con la prueba de hipótesis dado que el valor p es igual a 0.3508, debemos aceptar $H_O$, lo cual quiere decir que no existe una diferencia entre los 10 descuentos aplicados en los productos, por lo tanto, los ingresos medios por cada descuento generan el mismo impacto."
   ]
  }
 ],
 "metadata": {
  "kernelspec": {
   "display_name": "Python 3 (ipykernel)",
   "language": "python",
   "name": "python3"
  },
  "language_info": {
   "codemirror_mode": {
    "name": "ipython",
    "version": 3
   },
   "file_extension": ".py",
   "mimetype": "text/x-python",
   "name": "python",
   "nbconvert_exporter": "python",
   "pygments_lexer": "ipython3",
   "version": "3.9.13"
  }
 },
 "nbformat": 4,
 "nbformat_minor": 5
}
