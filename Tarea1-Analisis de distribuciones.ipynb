{
 "cells": [
  {
   "cell_type": "markdown",
   "id": "ca1e0769",
   "metadata": {},
   "source": [
    "\n",
    "#### 201908424 Cuahuizo Astorga María Fernanda\n",
    "\n",
    "# Rendimiento de los estudiantes en los exámenes\n",
    "La base de datos que analizaremos se trata de las notas obtenidas por los alumnos en diversas materias.\n"
   ]
  },
  {
   "cell_type": "code",
   "execution_count": 7,
   "id": "8604ab65",
   "metadata": {},
   "outputs": [],
   "source": [
    "import pandas as pd \n",
    "import numpy as np\n",
    "from empiricaldist import Pmf, Cdf\n",
    "import matplotlib.pyplot as plt"
   ]
  },
  {
   "cell_type": "code",
   "execution_count": 8,
   "id": "28759b8f",
   "metadata": {},
   "outputs": [
    {
     "data": {
      "text/html": [
       "<div>\n",
       "<style scoped>\n",
       "    .dataframe tbody tr th:only-of-type {\n",
       "        vertical-align: middle;\n",
       "    }\n",
       "\n",
       "    .dataframe tbody tr th {\n",
       "        vertical-align: top;\n",
       "    }\n",
       "\n",
       "    .dataframe thead th {\n",
       "        text-align: right;\n",
       "    }\n",
       "</style>\n",
       "<table border=\"1\" class=\"dataframe\">\n",
       "  <thead>\n",
       "    <tr style=\"text-align: right;\">\n",
       "      <th></th>\n",
       "      <th>gender</th>\n",
       "      <th>race/ethnicity</th>\n",
       "      <th>parental level of education</th>\n",
       "      <th>lunch</th>\n",
       "      <th>test preparation course</th>\n",
       "      <th>math score</th>\n",
       "      <th>reading score</th>\n",
       "      <th>writing score</th>\n",
       "    </tr>\n",
       "  </thead>\n",
       "  <tbody>\n",
       "    <tr>\n",
       "      <th>0</th>\n",
       "      <td>female</td>\n",
       "      <td>group B</td>\n",
       "      <td>bachelor's degree</td>\n",
       "      <td>standard</td>\n",
       "      <td>none</td>\n",
       "      <td>72</td>\n",
       "      <td>72</td>\n",
       "      <td>74</td>\n",
       "    </tr>\n",
       "    <tr>\n",
       "      <th>1</th>\n",
       "      <td>female</td>\n",
       "      <td>group C</td>\n",
       "      <td>some college</td>\n",
       "      <td>standard</td>\n",
       "      <td>completed</td>\n",
       "      <td>69</td>\n",
       "      <td>90</td>\n",
       "      <td>88</td>\n",
       "    </tr>\n",
       "    <tr>\n",
       "      <th>2</th>\n",
       "      <td>female</td>\n",
       "      <td>group B</td>\n",
       "      <td>master's degree</td>\n",
       "      <td>standard</td>\n",
       "      <td>none</td>\n",
       "      <td>90</td>\n",
       "      <td>95</td>\n",
       "      <td>93</td>\n",
       "    </tr>\n",
       "    <tr>\n",
       "      <th>3</th>\n",
       "      <td>male</td>\n",
       "      <td>group A</td>\n",
       "      <td>associate's degree</td>\n",
       "      <td>free/reduced</td>\n",
       "      <td>none</td>\n",
       "      <td>47</td>\n",
       "      <td>57</td>\n",
       "      <td>44</td>\n",
       "    </tr>\n",
       "    <tr>\n",
       "      <th>4</th>\n",
       "      <td>male</td>\n",
       "      <td>group C</td>\n",
       "      <td>some college</td>\n",
       "      <td>standard</td>\n",
       "      <td>none</td>\n",
       "      <td>76</td>\n",
       "      <td>78</td>\n",
       "      <td>75</td>\n",
       "    </tr>\n",
       "  </tbody>\n",
       "</table>\n",
       "</div>"
      ],
      "text/plain": [
       "   gender race/ethnicity parental level of education         lunch  \\\n",
       "0  female        group B           bachelor's degree      standard   \n",
       "1  female        group C                some college      standard   \n",
       "2  female        group B             master's degree      standard   \n",
       "3    male        group A          associate's degree  free/reduced   \n",
       "4    male        group C                some college      standard   \n",
       "\n",
       "  test preparation course  math score  reading score  writing score  \n",
       "0                    none          72             72             74  \n",
       "1               completed          69             90             88  \n",
       "2                    none          90             95             93  \n",
       "3                    none          47             57             44  \n",
       "4                    none          76             78             75  "
      ]
     },
     "execution_count": 8,
     "metadata": {},
     "output_type": "execute_result"
    }
   ],
   "source": [
    "notas = pd.read_csv('StudentsPerformance.csv')\n",
    "notas.head()"
   ]
  },
  {
   "cell_type": "markdown",
   "id": "00c2c8f7",
   "metadata": {},
   "source": [
    "## 1) Comprensión de los datos\n",
    "A continuacion vamos a ver respectivamente:\n",
    "<li>Tipo de dato\n",
    "    <li>Número de filas y columnas\n",
    "        <li>Nombres de las columnas     "
   ]
  },
  {
   "cell_type": "code",
   "execution_count": 9,
   "id": "9c024b0e",
   "metadata": {},
   "outputs": [
    {
     "name": "stdout",
     "output_type": "stream",
     "text": [
      "<class 'pandas.core.frame.DataFrame'>\n",
      "(1000, 8)\n",
      "Index(['gender', 'race/ethnicity', 'parental level of education', 'lunch',\n",
      "       'test preparation course', 'math score', 'reading score',\n",
      "       'writing score'],\n",
      "      dtype='object')\n"
     ]
    }
   ],
   "source": [
    "#Tipo de dato\n",
    "print(type(notas))\n",
    "#Número de filas y columnas\n",
    "print(notas.shape)\n",
    "#Nombres de las columnas\n",
    "print(notas.columns)\n"
   ]
  },
  {
   "cell_type": "markdown",
   "id": "d08771c9",
   "metadata": {},
   "source": [
    "### Observaciones\n",
    "En resumen, vemos que se trata de un DataFrame, el cual contiene 1,000 renglones y 8 columnas. Por los nombres de las columnas, se observa que esta base de datos se trata de las calificaciones obtenidas por los estudiantes en las materias de matemáticas (<code>'math score'</code>) , lectura (<code>'reading score'</code>) y redacción (<code> 'writing score' </code>), tomando en cuenta si la persona es hombre o mujer (<code>'gender'</code>) , la raza o etnia (<code>'race/ethnicity'</code>), el nivel educativo de los padres (<code>'parental level of education'</code>) , si comieron o no antes de realizar el examen (<code> 'lunch'</code>) y si tuvieron un curso de preparación para el mismo (<code>'test preparation course'</code>). "
   ]
  },
  {
   "cell_type": "markdown",
   "id": "a021e279",
   "metadata": {},
   "source": [
    "## 2) Verificación de valores faltantes\n",
    "\n",
    "A continuación veremos que con ambas instrucciones confirmamos que no faltan valores en nuestro conjunto de datos."
   ]
  },
  {
   "cell_type": "code",
   "execution_count": 10,
   "id": "371e2065",
   "metadata": {},
   "outputs": [
    {
     "data": {
      "text/plain": [
       "gender                         0\n",
       "race/ethnicity                 0\n",
       "parental level of education    0\n",
       "lunch                          0\n",
       "test preparation course        0\n",
       "math score                     0\n",
       "reading score                  0\n",
       "writing score                  0\n",
       "dtype: int64"
      ]
     },
     "execution_count": 10,
     "metadata": {},
     "output_type": "execute_result"
    }
   ],
   "source": [
    "#Vemos si falta al menos un valor en los datos\n",
    "notas.isnull().values.any()\n",
    "\n",
    "#Vemos cuantos valores faltan en cada una de las columnas de DataFrame\n",
    "notas.isnull().sum()"
   ]
  },
  {
   "cell_type": "markdown",
   "id": "e9a70635",
   "metadata": {},
   "source": [
    "Nuestra base de datos está completa, es decir, no le hace falta algún dato."
   ]
  },
  {
   "cell_type": "markdown",
   "id": "0cd39985",
   "metadata": {},
   "source": [
    "## 3) Descartar datos\n",
    "Eliminaremos las filas duplicadas, en caso de que las haya, guardaresmos los cambios en los datos originales."
   ]
  },
  {
   "cell_type": "code",
   "execution_count": 11,
   "id": "aedec46a",
   "metadata": {},
   "outputs": [
    {
     "data": {
      "text/html": [
       "<div>\n",
       "<style scoped>\n",
       "    .dataframe tbody tr th:only-of-type {\n",
       "        vertical-align: middle;\n",
       "    }\n",
       "\n",
       "    .dataframe tbody tr th {\n",
       "        vertical-align: top;\n",
       "    }\n",
       "\n",
       "    .dataframe thead th {\n",
       "        text-align: right;\n",
       "    }\n",
       "</style>\n",
       "<table border=\"1\" class=\"dataframe\">\n",
       "  <thead>\n",
       "    <tr style=\"text-align: right;\">\n",
       "      <th></th>\n",
       "      <th>gender</th>\n",
       "      <th>race/ethnicity</th>\n",
       "      <th>parental level of education</th>\n",
       "      <th>lunch</th>\n",
       "      <th>test preparation course</th>\n",
       "      <th>math score</th>\n",
       "      <th>reading score</th>\n",
       "      <th>writing score</th>\n",
       "    </tr>\n",
       "  </thead>\n",
       "  <tbody>\n",
       "    <tr>\n",
       "      <th>0</th>\n",
       "      <td>female</td>\n",
       "      <td>group B</td>\n",
       "      <td>bachelor's degree</td>\n",
       "      <td>standard</td>\n",
       "      <td>none</td>\n",
       "      <td>72</td>\n",
       "      <td>72</td>\n",
       "      <td>74</td>\n",
       "    </tr>\n",
       "    <tr>\n",
       "      <th>1</th>\n",
       "      <td>female</td>\n",
       "      <td>group C</td>\n",
       "      <td>some college</td>\n",
       "      <td>standard</td>\n",
       "      <td>completed</td>\n",
       "      <td>69</td>\n",
       "      <td>90</td>\n",
       "      <td>88</td>\n",
       "    </tr>\n",
       "    <tr>\n",
       "      <th>2</th>\n",
       "      <td>female</td>\n",
       "      <td>group B</td>\n",
       "      <td>master's degree</td>\n",
       "      <td>standard</td>\n",
       "      <td>none</td>\n",
       "      <td>90</td>\n",
       "      <td>95</td>\n",
       "      <td>93</td>\n",
       "    </tr>\n",
       "    <tr>\n",
       "      <th>3</th>\n",
       "      <td>male</td>\n",
       "      <td>group A</td>\n",
       "      <td>associate's degree</td>\n",
       "      <td>free/reduced</td>\n",
       "      <td>none</td>\n",
       "      <td>47</td>\n",
       "      <td>57</td>\n",
       "      <td>44</td>\n",
       "    </tr>\n",
       "    <tr>\n",
       "      <th>4</th>\n",
       "      <td>male</td>\n",
       "      <td>group C</td>\n",
       "      <td>some college</td>\n",
       "      <td>standard</td>\n",
       "      <td>none</td>\n",
       "      <td>76</td>\n",
       "      <td>78</td>\n",
       "      <td>75</td>\n",
       "    </tr>\n",
       "    <tr>\n",
       "      <th>...</th>\n",
       "      <td>...</td>\n",
       "      <td>...</td>\n",
       "      <td>...</td>\n",
       "      <td>...</td>\n",
       "      <td>...</td>\n",
       "      <td>...</td>\n",
       "      <td>...</td>\n",
       "      <td>...</td>\n",
       "    </tr>\n",
       "    <tr>\n",
       "      <th>995</th>\n",
       "      <td>female</td>\n",
       "      <td>group E</td>\n",
       "      <td>master's degree</td>\n",
       "      <td>standard</td>\n",
       "      <td>completed</td>\n",
       "      <td>88</td>\n",
       "      <td>99</td>\n",
       "      <td>95</td>\n",
       "    </tr>\n",
       "    <tr>\n",
       "      <th>996</th>\n",
       "      <td>male</td>\n",
       "      <td>group C</td>\n",
       "      <td>high school</td>\n",
       "      <td>free/reduced</td>\n",
       "      <td>none</td>\n",
       "      <td>62</td>\n",
       "      <td>55</td>\n",
       "      <td>55</td>\n",
       "    </tr>\n",
       "    <tr>\n",
       "      <th>997</th>\n",
       "      <td>female</td>\n",
       "      <td>group C</td>\n",
       "      <td>high school</td>\n",
       "      <td>free/reduced</td>\n",
       "      <td>completed</td>\n",
       "      <td>59</td>\n",
       "      <td>71</td>\n",
       "      <td>65</td>\n",
       "    </tr>\n",
       "    <tr>\n",
       "      <th>998</th>\n",
       "      <td>female</td>\n",
       "      <td>group D</td>\n",
       "      <td>some college</td>\n",
       "      <td>standard</td>\n",
       "      <td>completed</td>\n",
       "      <td>68</td>\n",
       "      <td>78</td>\n",
       "      <td>77</td>\n",
       "    </tr>\n",
       "    <tr>\n",
       "      <th>999</th>\n",
       "      <td>female</td>\n",
       "      <td>group D</td>\n",
       "      <td>some college</td>\n",
       "      <td>free/reduced</td>\n",
       "      <td>none</td>\n",
       "      <td>77</td>\n",
       "      <td>86</td>\n",
       "      <td>86</td>\n",
       "    </tr>\n",
       "  </tbody>\n",
       "</table>\n",
       "<p>1000 rows × 8 columns</p>\n",
       "</div>"
      ],
      "text/plain": [
       "     gender race/ethnicity parental level of education         lunch  \\\n",
       "0    female        group B           bachelor's degree      standard   \n",
       "1    female        group C                some college      standard   \n",
       "2    female        group B             master's degree      standard   \n",
       "3      male        group A          associate's degree  free/reduced   \n",
       "4      male        group C                some college      standard   \n",
       "..      ...            ...                         ...           ...   \n",
       "995  female        group E             master's degree      standard   \n",
       "996    male        group C                 high school  free/reduced   \n",
       "997  female        group C                 high school  free/reduced   \n",
       "998  female        group D                some college      standard   \n",
       "999  female        group D                some college  free/reduced   \n",
       "\n",
       "    test preparation course  math score  reading score  writing score  \n",
       "0                      none          72             72             74  \n",
       "1                 completed          69             90             88  \n",
       "2                      none          90             95             93  \n",
       "3                      none          47             57             44  \n",
       "4                      none          76             78             75  \n",
       "..                      ...         ...            ...            ...  \n",
       "995               completed          88             99             95  \n",
       "996                    none          62             55             55  \n",
       "997               completed          59             71             65  \n",
       "998               completed          68             78             77  \n",
       "999                    none          77             86             86  \n",
       "\n",
       "[1000 rows x 8 columns]"
      ]
     },
     "execution_count": 11,
     "metadata": {},
     "output_type": "execute_result"
    }
   ],
   "source": [
    "notas.drop_duplicates(inplace = True)\n",
    "notas"
   ]
  },
  {
   "cell_type": "markdown",
   "id": "b3252640",
   "metadata": {},
   "source": [
    "# <span style=\"color:green\"> Análisis de la variable  <code>'math score'</code>  </span>\n",
    "\n",
    "A continuación, la variable que vamos a analizar será <code>'math score'</code>, es decir, el puntaje obtenido en el examen de matemáticas, tanto en mujeres como en hombres, pero antes se presentarán unas medidas de tendencia central (media y mediana), unas medidas de variabilidad (max, min, desviación estandar) y los cuantiles de dicha variable.\n",
    "\n",
    "Observaremos que de los 1000 datos que tenemos, la media esta en 66 puntos, la desviación estándar es de 15.16, el puntaje mínimo es de 0 y el máximo de 100 puntos, el 25% de los datos tendrán un valor igual o más pequeño a 57, el 50% de los datos tendrán un valor igual o más pequeño a 66 y el 75%  de los datos obtiene 77 puntos o menos.\n"
   ]
  },
  {
   "cell_type": "code",
   "execution_count": 12,
   "id": "5015a772",
   "metadata": {},
   "outputs": [
    {
     "data": {
      "text/plain": [
       "count    1000.00000\n",
       "mean       66.08900\n",
       "std        15.16308\n",
       "min         0.00000\n",
       "25%        57.00000\n",
       "50%        66.00000\n",
       "75%        77.00000\n",
       "max       100.00000\n",
       "Name: math score, dtype: float64"
      ]
     },
     "execution_count": 12,
     "metadata": {},
     "output_type": "execute_result"
    }
   ],
   "source": [
    "notas['math score'].describe()"
   ]
  },
  {
   "cell_type": "markdown",
   "id": "f2f3f06b",
   "metadata": {},
   "source": [
    "## 1) Función de masa de probabilidad (PMF)\n",
    "\n",
    "\n",
    "\n",
    "Sabemos que esta función, nos dice la probabilidad de que una variable aleatoria discreta tome un cierto valor.\n",
    "\n",
    "Una de sus características es que todas las probabilidades deben sumar 1.\n",
    "\n",
    "A menudo, se visualisan por medio de graficas de barras. "
   ]
  },
  {
   "cell_type": "markdown",
   "id": "21d106f7",
   "metadata": {},
   "source": [
    "### 1.1 Mujeres\n",
    "\n",
    "Extraemos los datos de la columna  <code>'math score'</code> perteneciente solo a las mujeres."
   ]
  },
  {
   "cell_type": "code",
   "execution_count": 13,
   "id": "deed4255",
   "metadata": {},
   "outputs": [
    {
     "name": "stdout",
     "output_type": "stream",
     "text": [
      "0     True\n",
      "1     True\n",
      "2     True\n",
      "3    False\n",
      "4    False\n",
      "Name: gender, dtype: bool\n",
      "0    72\n",
      "1    69\n",
      "2    90\n",
      "3    47\n",
      "4    76\n",
      "Name: math score, dtype: int64\n"
     ]
    },
    {
     "data": {
      "text/plain": [
       "0    72\n",
       "1    69\n",
       "2    90\n",
       "5    71\n",
       "6    88\n",
       "Name: math score, dtype: int64"
      ]
     },
     "execution_count": 13,
     "metadata": {},
     "output_type": "execute_result"
    }
   ],
   "source": [
    "#Identificamos solo a las mujeres\n",
    "mujeres = notas['gender']== 'female'\n",
    "print(mujeres.head())\n",
    "\n",
    "#Extraemos los datos de la columna 'math score'\n",
    "math_score = notas['math score']\n",
    "print(math_score.head())\n",
    "\n",
    "#Extraemos los datos de la columna 'math score' perteneciente solo a las mujeres.\n",
    "mujeres_math_score = math_score[mujeres]\n",
    "mujeres_math_score.head(5)"
   ]
  },
  {
   "cell_type": "markdown",
   "id": "73c18b70",
   "metadata": {},
   "source": [
    "### Estadísticas\n",
    "\n",
    "Observaremos que hay 518 mujeres, la media esta en 63.63 puntos, la desviación estándar es de 15.49, el puntaje mínimo es de 0 y el máximo de 100 puntos, el 25% de los datos tendrán un valor igual o más pequeño a 54, el 50% de los datos tendrán un valor igual o más pequeño a 65 y el 75%  de los datos obtiene 74 puntos o menos.\n"
   ]
  },
  {
   "cell_type": "code",
   "execution_count": 14,
   "id": "26cca5f7",
   "metadata": {},
   "outputs": [
    {
     "data": {
      "text/plain": [
       "count    518.000000\n",
       "mean      63.633205\n",
       "std       15.491453\n",
       "min        0.000000\n",
       "25%       54.000000\n",
       "50%       65.000000\n",
       "75%       74.000000\n",
       "max      100.000000\n",
       "Name: math score, dtype: float64"
      ]
     },
     "execution_count": 14,
     "metadata": {},
     "output_type": "execute_result"
    }
   ],
   "source": [
    "mujeres_math_score.describe()"
   ]
  },
  {
   "cell_type": "markdown",
   "id": "2e0e5af7",
   "metadata": {},
   "source": [
    "### HISTORAMA \n",
    "\n",
    "Con el histograma podemos ver la forma general de la distribución y la tendencia central"
   ]
  },
  {
   "cell_type": "code",
   "execution_count": 15,
   "id": "b815a944",
   "metadata": {},
   "outputs": [
    {
     "data": {
      "image/png": "[encoded data removed]",
      "text/plain": [
       "<Figure size 640x480 with 1 Axes>"
      ]
     },
     "metadata": {},
     "output_type": "display_data"
    }
   ],
   "source": [
    "plt.hist(mujeres_math_score,bins=20,histtype='step')\n",
    "plt.xlabel('Puntuación')\n",
    "plt.ylabel('Frecuencia')\n",
    "plt.show()"
   ]
  },
  {
   "cell_type": "markdown",
   "id": "a3fc7501",
   "metadata": {},
   "source": [
    "### PMF"
   ]
  },
  {
   "cell_type": "code",
   "execution_count": 16,
   "id": "d64a4d16",
   "metadata": {},
   "outputs": [
    {
     "name": "stdout",
     "output_type": "stream",
     "text": [
      "0     0.001931\n",
      "8     0.001931\n",
      "18    0.001931\n",
      "19    0.001931\n",
      "22    0.001931\n",
      "23    0.001931\n",
      "24    0.001931\n",
      "26    0.001931\n",
      "27    0.001931\n",
      "29    0.005792\n",
      "Name: , dtype: float64\n"
     ]
    },
    {
     "data": {
      "image/png": "[encoded data removed]",
      "text/plain": [
       "<Figure size 640x480 with 1 Axes>"
      ]
     },
     "metadata": {},
     "output_type": "display_data"
    }
   ],
   "source": [
    "#Sacamos su proporción\n",
    "pmf_mujeres_math_score = Pmf(Pmf.from_seq(mujeres_math_score, normalize = True))\n",
    "print(pmf_mujeres_math_score.head(10))\n",
    "\n",
    "#graficamos la pmf\n",
    "pmf_mujeres_math_score.bar(label=\"puntuacion\", color = 'pink')\n",
    "plt.xlabel('Puntuación en el examen de matemáticas realizado por mujeres')\n",
    "plt.ylabel('PMF funcion de masa de probabilidad')\n",
    "plt.show()"
   ]
  },
  {
   "cell_type": "markdown",
   "id": "8b21ea94",
   "metadata": {},
   "source": [
    "Observemos que la probabilidad de que las mujeres tengan una puntuación de 0 es baja y, es menor en comparación a la probabilidad de que se obtenga una puntuación de 100. \n",
    "\n",
    "Por otro lado, notemos que la puntuación que más obtienen las mujeres está entre los 60 y 80 puntos y dicha puntuación la obtienen 80 mujeres de acuerdo con el histograma.\n",
    "\n",
    "Asimismo, note que la forma de la grafica es simétrica, ya que conforme el puntaje va llegando a 70 aproximadamente la probabilidad tambien aumenta y una vez pasando este pico la probabilidad disminuye hasta que el puntaje llega a 100, esto también se puede ver con el histograma."
   ]
  },
  {
   "cell_type": "markdown",
   "id": "bee67a77",
   "metadata": {},
   "source": [
    "### 1.2 Hombres\n",
    "Extraemos los datos de la columna  <code>'math score'</code> perteneciente solo a los hombres"
   ]
  },
  {
   "cell_type": "code",
   "execution_count": 17,
   "id": "42936e19",
   "metadata": {},
   "outputs": [
    {
     "data": {
      "text/plain": [
       "3     47\n",
       "4     76\n",
       "7     40\n",
       "8     64\n",
       "10    58\n",
       "Name: math score, dtype: int64"
      ]
     },
     "execution_count": 17,
     "metadata": {},
     "output_type": "execute_result"
    }
   ],
   "source": [
    "#mostramos los primeros 5 valores del puntaje perteneciente a los hombres\n",
    "hombres_math_score = math_score[~mujeres]\n",
    "hombres_math_score.head(5)"
   ]
  },
  {
   "cell_type": "markdown",
   "id": "0056f8c1",
   "metadata": {},
   "source": [
    "### Estadísticas\n",
    "\n",
    "Observaremos que hay 482 hombres, la media está en 68.72 puntos, la desviación estándar es de 14.35, el puntaje mínimo es de 27 y el máximo de 100 puntos, el 25% de los datos tendrán un valor igual o más pequeño a 59, el 50% de los datos tendrán un valor igual o más pequeño a 69 y el 75%  de los datos obtiene 79 puntos o menos."
   ]
  },
  {
   "cell_type": "code",
   "execution_count": 18,
   "id": "1ceb6ddd",
   "metadata": {},
   "outputs": [
    {
     "data": {
      "text/plain": [
       "count    482.000000\n",
       "mean      68.728216\n",
       "std       14.356277\n",
       "min       27.000000\n",
       "25%       59.000000\n",
       "50%       69.000000\n",
       "75%       79.000000\n",
       "max      100.000000\n",
       "Name: math score, dtype: float64"
      ]
     },
     "execution_count": 18,
     "metadata": {},
     "output_type": "execute_result"
    }
   ],
   "source": [
    "hombres_math_score.describe()"
   ]
  },
  {
   "cell_type": "markdown",
   "id": "b02d5a74",
   "metadata": {},
   "source": [
    "### Histograma"
   ]
  },
  {
   "cell_type": "code",
   "execution_count": 19,
   "id": "940ac8ab",
   "metadata": {},
   "outputs": [
    {
     "data": {
      "image/png": "[encoded data removed]",
      "text/plain": [
       "<Figure size 640x480 with 1 Axes>"
      ]
     },
     "metadata": {},
     "output_type": "display_data"
    }
   ],
   "source": [
    "plt.hist(hombres_math_score,bins=20,histtype='step')\n",
    "plt.xlabel('Puntuación')\n",
    "plt.ylabel('Frecuencia')\n",
    "plt.show()"
   ]
  },
  {
   "cell_type": "markdown",
   "id": "0a7215ed",
   "metadata": {},
   "source": [
    "\n",
    "A partir de 35 puntos hasta 58 puntos aproximadamente, la frecuencia del puntaje de los hombres va creciendo, de 58 a 60 puntos baja la cantidad de hombres en una proporción muy mínima y de ahí tiene una gran alza llegando a más de 50 hombres que obtiene un puntaje entre los 60 y 65 aproximadamente, otra barra más alta es la de 48 hombres que tienen un puntaje de entre 70 y 75 puntos y a partir de ahí la frecuencia va disminuyendo."
   ]
  },
  {
   "cell_type": "markdown",
   "id": "ebfbccff",
   "metadata": {},
   "source": [
    "## PMF"
   ]
  },
  {
   "cell_type": "code",
   "execution_count": 20,
   "id": "17a7ee85",
   "metadata": {},
   "outputs": [
    {
     "name": "stdout",
     "output_type": "stream",
     "text": [
      "27    0.002075\n",
      "28    0.002075\n",
      "30    0.004149\n",
      "35    0.002075\n",
      "36    0.002075\n",
      "37    0.002075\n",
      "39    0.004149\n",
      "40    0.010373\n",
      "41    0.004149\n",
      "42    0.002075\n",
      "Name: , dtype: float64\n"
     ]
    },
    {
     "data": {
      "image/png": "[encoded data removed]",
      "text/plain": [
       "<Figure size 640x480 with 1 Axes>"
      ]
     },
     "metadata": {},
     "output_type": "display_data"
    }
   ],
   "source": [
    "#Sacamos su proporción\n",
    "pmf_hombres_math_score = Pmf(Pmf.from_seq(hombres_math_score, normalize = True))\n",
    "print(pmf_hombres_math_score.head(10))\n",
    "\n",
    "#graficamos la pmf\n",
    "pmf_hombres_math_score .bar(label=\"puntuacion\")\n",
    "plt.xlabel('Puntuación en el examen de matemáticas realizado por hombres')\n",
    "plt.ylabel('PMF funcion de masa de probabilidad')\n",
    "plt.show()"
   ]
  },
  {
   "cell_type": "markdown",
   "id": "2b121e0b",
   "metadata": {},
   "source": [
    "Podemos notar que la mínima puntuación es menor a 30 puntos pero mayor a 0, en especifico es de 27 puntos.\n",
    "\n",
    "Por otro lado, se alcanza a ver que la mayor parte de los hombres alcanza un puntaje entre los 60 y 65 puntos, de acuerdo con el histograma son mas de 50, además la gráfica tiene varios picos, esto significa que hay una variedad de calificaciones que los hombres alcanzan, esto mismo se puede ver con el histograma.\n",
    "\n",
    "\n",
    "\n",
    "## Conclusión\n",
    "Con los gráficos, podemos ver que los hombres obtienen mejores puntajes que las mujeres, lo cual podemos confirmarlo con los estadísticos calculados, notemos que el minimo de los primeros es de 27 mientras que de las mujeres es de 0 y la media en hombres es de 68.72 y en mujeres es de 5.09 puntos menos, es decir, es de 63.63.\n",
    "Asimismo, existe una mayor probabilidad de que los hombres saquen 100 puntos a que lo hagan las mujeres."
   ]
  },
  {
   "cell_type": "markdown",
   "id": "52b76a1b",
   "metadata": {},
   "source": [
    "# 2) Función de distribución acumulativa (CDF)\n",
    "\n",
    "\n",
    "Esta función nos dice la probabilidad de obtener un valor menor o igual a cierto valor dado en determindada variable aleatoria.\n",
    "\n",
    "Dicha función se calcula por medio de la siguiente fórmula:\n",
    "$$F(x)= P[X\\leq x]$$"
   ]
  },
  {
   "cell_type": "markdown",
   "id": "9c8822bd",
   "metadata": {},
   "source": [
    "## 2.1 Mujeres"
   ]
  },
  {
   "cell_type": "code",
   "execution_count": 21,
   "id": "f3a2b6bd",
   "metadata": {},
   "outputs": [
    {
     "name": "stdout",
     "output_type": "stream",
     "text": [
      "0      0.001931\n",
      "8      0.003861\n",
      "18     0.005792\n",
      "19     0.007722\n",
      "22     0.009653\n",
      "         ...   \n",
      "96     0.984556\n",
      "97     0.988417\n",
      "98     0.990347\n",
      "99     0.994208\n",
      "100    1.000000\n",
      "Name: , Length: 79, dtype: float64\n"
     ]
    }
   ],
   "source": [
    "# Calculamos la CDF del puntaje de matematicas en mujeres\n",
    "cdf_mujeres_math_score = Cdf.from_seq(mujeres_math_score)\n",
    "print(cdf_mujeres_math_score)"
   ]
  },
  {
   "cell_type": "code",
   "execution_count": 22,
   "id": "f116a434",
   "metadata": {},
   "outputs": [
    {
     "data": {
      "image/png": "[encoded data removed]",
      "text/plain": [
       "<Figure size 640x480 with 1 Axes>"
      ]
     },
     "metadata": {},
     "output_type": "display_data"
    }
   ],
   "source": [
    "#Graficamos la CDF del puntaje de matematicas en mujeres\n",
    "cdf_mujeres_math_score=Cdf.from_seq(mujeres_math_score)\n",
    "cdf_mujeres_math_score.plot()\n",
    "plt.xlabel('Puntaje en el examen de matemáticas de las mujeres')\n",
    "plt.ylabel('CDF')\n",
    "plt.show()"
   ]
  },
  {
   "cell_type": "markdown",
   "id": "6842f900",
   "metadata": {},
   "source": [
    "## 2.2 Hombres"
   ]
  },
  {
   "cell_type": "code",
   "execution_count": 23,
   "id": "0392ff52",
   "metadata": {},
   "outputs": [
    {
     "name": "stdout",
     "output_type": "stream",
     "text": [
      "27     0.002075\n",
      "28     0.004149\n",
      "30     0.008299\n",
      "35     0.010373\n",
      "36     0.012448\n",
      "         ...   \n",
      "96     0.977178\n",
      "97     0.985477\n",
      "98     0.989627\n",
      "99     0.991701\n",
      "100    1.000000\n",
      "Name: , Length: 68, dtype: float64\n"
     ]
    }
   ],
   "source": [
    "# Calculamos la CDF del puntaje de matematicas en hombres\n",
    "cdf_hombres_math_score = Cdf.from_seq(hombres_math_score)\n",
    "print(cdf_hombres_math_score)"
   ]
  },
  {
   "cell_type": "code",
   "execution_count": 24,
   "id": "2dde7f93",
   "metadata": {},
   "outputs": [
    {
     "data": {
      "image/png": "[encoded data removed]",
      "text/plain": [
       "<Figure size 640x480 with 1 Axes>"
      ]
     },
     "metadata": {},
     "output_type": "display_data"
    }
   ],
   "source": [
    "#Graficamos la CDF del puntaje de matematicas en hombres\n",
    "cdf_hombres_math_score=Cdf.from_seq(hombres_math_score)\n",
    "cdf_hombres_math_score.plot()\n",
    "plt.xlabel('Puntaje en el examen de matemáticas de los hombres')\n",
    "plt.ylabel('CDF')\n",
    "plt.show()"
   ]
  },
  {
   "cell_type": "markdown",
   "id": "84be32a9",
   "metadata": {},
   "source": [
    "## Ambas funciones de distribución acumulada"
   ]
  },
  {
   "cell_type": "code",
   "execution_count": 25,
   "id": "e4e199e0",
   "metadata": {},
   "outputs": [
    {
     "data": {
      "image/png": "[encoded data removed]",
      "text/plain": [
       "<Figure size 640x480 with 1 Axes>"
      ]
     },
     "metadata": {},
     "output_type": "display_data"
    }
   ],
   "source": [
    "Cdf.from_seq(hombres_math_score).plot(label='Hombres')\n",
    "Cdf.from_seq(mujeres_math_score).plot(label='Mujeres')\n",
    "plt.xlabel('Puntaje en el examen de matemáticas')\n",
    "plt.ylabel('CDF')\n",
    "plt.legend()\n",
    "plt.show()"
   ]
  },
  {
   "cell_type": "markdown",
   "id": "a691aaee",
   "metadata": {},
   "source": [
    "Podemos observar que:\n",
    "\n",
    "<li> La función de distribución tanto de hombres como de mujeres hace referencia a la distribución normal. \n",
    "    <li> Las mujeres son quienes sacan los puntajes más bajos, ya que con ellas empezamos de 0 y los hombres empiezan con puntajes de 27.    \n",
    "        <li>Las probabilides de obtener un  puntaje menor o igual a 90 aproximadamente siempre son menores en hombres que en mujeres, pasando este valor las probabilidades se tornan casi iguales.\n",
    "        <li> La distribución de las mujeres tiene más probabilidad porque la distribución de las mujeres es mayor que la dispersión de los hombres.\n",
    "            <li> Los hombres son mejores en matemáticas.\n",
    "               "
   ]
  }
 ],
 "metadata": {
  "kernelspec": {
   "display_name": "Python 3 (ipykernel)",
   "language": "python",
   "name": "python3"
  },
  "language_info": {
   "codemirror_mode": {
    "name": "ipython",
    "version": 3
   },
   "file_extension": ".py",
   "mimetype": "text/x-python",
   "name": "python",
   "nbconvert_exporter": "python",
   "pygments_lexer": "ipython3",
   "version": "3.9.13"
  }
 },
 "nbformat": 4,
 "nbformat_minor": 5
}
